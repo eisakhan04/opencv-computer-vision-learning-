{
 "cells": [
  {
   "cell_type": "markdown",
   "id": "2b0abcaf-1ed8-406d-ac61-8f50e3fea223",
   "metadata": {},
   "source": [
    "# image contours using opencv "
   ]
  },
  {
   "cell_type": "code",
   "execution_count": 6,
   "id": "0122694e-7cef-4d8a-b212-aace6ba3412f",
   "metadata": {},
   "outputs": [],
   "source": [
    "import cv2\n",
    "import numpy as np\n",
    "\n",
    "# Load the image\n",
    "image = cv2.imread('eisa.jpeg')\n",
    "image = cv2.resize(image , (500,500))\n",
    "gray = cv2.cvtColor(image, cv2.COLOR_BGR2GRAY)  # Convert to grayscale\n",
    "\n",
    "# Apply thresholding to binarize the image\n",
    "_, thresholded = cv2.threshold(gray, 127, 255, cv2.THRESH_BINARY)\n",
    "\n",
    "# Find contours\n",
    "contours, hierarchy = cv2.findContours(thresholded, cv2.RETR_EXTERNAL, cv2.CHAIN_APPROX_SIMPLE)\n",
    "\n",
    "# Draw contours on the original image\n",
    "cv2.drawContours(image, contours, -1, (0, 255, 0), 2)  # Green contours\n",
    "\n",
    "# Display the original image with contours\n",
    "cv2.imshow(\"Contours\", image)\n",
    "cv2.waitKey(0)  \n",
    "cv2.destroyAllWindows()\n"
   ]
  },
  {
   "cell_type": "code",
   "execution_count": null,
   "id": "ad0f7a26-815c-423a-b31d-1191c15635a8",
   "metadata": {},
   "outputs": [],
   "source": []
  },
  {
   "cell_type": "markdown",
   "id": "48bae9bc-888f-4f1e-afe6-ffcea926c16e",
   "metadata": {},
   "source": [
    "# Contour Moments And Convex Hull Using Open cv "
   ]
  },
  {
   "cell_type": "code",
   "execution_count": 10,
   "id": "9acf4cd0-2f45-4aa3-842d-8391a4a2ac37",
   "metadata": {},
   "outputs": [],
   "source": [
    "import cv2"
   ]
  },
  {
   "cell_type": "code",
   "execution_count": 20,
   "id": "f265dc4a-04c7-4acc-9528-153ce357c071",
   "metadata": {},
   "outputs": [
    {
     "ename": "ZeroDivisionError",
     "evalue": "float division by zero",
     "output_type": "error",
     "traceback": [
      "\u001b[1;31m---------------------------------------------------------------------------\u001b[0m",
      "\u001b[1;31mZeroDivisionError\u001b[0m                         Traceback (most recent call last)",
      "Cell \u001b[1;32mIn[20], line 13\u001b[0m\n\u001b[0;32m     11\u001b[0m \u001b[38;5;28;01mfor\u001b[39;00m c \u001b[38;5;129;01min\u001b[39;00m cnt:\n\u001b[0;32m     12\u001b[0m     m \u001b[38;5;241m=\u001b[39m cv2\u001b[38;5;241m.\u001b[39mmoments(c)\n\u001b[1;32m---> 13\u001b[0m     x \u001b[38;5;241m=\u001b[39m \u001b[38;5;28mint\u001b[39m(\u001b[43mm\u001b[49m\u001b[43m[\u001b[49m\u001b[38;5;124;43m\"\u001b[39;49m\u001b[38;5;124;43mm10\u001b[39;49m\u001b[38;5;124;43m\"\u001b[39;49m\u001b[43m]\u001b[49m\u001b[38;5;241;43m/\u001b[39;49m\u001b[43mm\u001b[49m\u001b[43m[\u001b[49m\u001b[38;5;124;43m\"\u001b[39;49m\u001b[38;5;124;43mm00\u001b[39;49m\u001b[38;5;124;43m\"\u001b[39;49m\u001b[43m]\u001b[49m)\n\u001b[0;32m     14\u001b[0m     y \u001b[38;5;241m=\u001b[39m \u001b[38;5;28mint\u001b[39m(m[\u001b[38;5;124m\"\u001b[39m\u001b[38;5;124mm01\u001b[39m\u001b[38;5;124m\"\u001b[39m]\u001b[38;5;241m/\u001b[39mm[\u001b[38;5;124m\"\u001b[39m\u001b[38;5;124mm00\u001b[39m\u001b[38;5;124m\"\u001b[39m])\n\u001b[0;32m     15\u001b[0m     cv2\u001b[38;5;241m.\u001b[39mdrawContours(img , cnt , \u001b[38;5;241m-\u001b[39m\u001b[38;5;241m1\u001b[39m , (\u001b[38;5;241m0\u001b[39m,\u001b[38;5;241m0\u001b[39m,\u001b[38;5;241m255\u001b[39m) , \u001b[38;5;241m4\u001b[39m)\n",
      "\u001b[1;31mZeroDivisionError\u001b[0m: float division by zero"
     ]
    }
   ],
   "source": [
    "img = cv2.imread(\"eisa.jpeg\")\n",
    "\n",
    "gry = cv2.cvtColor(img , cv2.COLOR_BGR2GRAY)\n",
    "\n",
    "_ , thr = cv2.threshold(gry , 230,255, cv2.THRESH_BINARY)\n",
    "\n",
    "cnt , hir = cv2.findContours(thr , cv2.RETR_TREE , cv2.CHAIN_APPROX_SIMPLE)\n",
    "\n",
    "\n",
    "ar = []\n",
    "for c in cnt:\n",
    "    m = cv2.moments(c)\n",
    "    x = int(m[\"m10\"]/m[\"m00\"])\n",
    "    y = int(m[\"m01\"]/m[\"m00\"])\n",
    "    cv2.drawContours(img , cnt , -1 , (0,0,255) , 4)\n",
    "    cv2.circle(img , (x,y),2, (255,0,0) ,-1 )\n",
    "    a = cv2.contourArea(c)\n",
    "    ar.append(a)\n",
    "\n",
    "\n",
    "\n",
    "\n",
    "print(ar)\n",
    "cv2.imshow(\"threshold\" , thr)\n",
    "cv2.imshow(\"eisa\" , img)\n",
    "cv2.waitKey(0)\n",
    "cv2.destroyAllWindows()"
   ]
  },
  {
   "cell_type": "code",
   "execution_count": null,
   "id": "66e62a19-87c0-44ca-bb8e-08bcf54ba56f",
   "metadata": {},
   "outputs": [],
   "source": []
  },
  {
   "cell_type": "code",
   "execution_count": 2,
   "id": "811247bf-dff9-4c67-9479-03d891b6f5c8",
   "metadata": {},
   "outputs": [],
   "source": [
    "import cv2\n",
    "import numpy as np\n",
    "\n",
    "# Load the image\n",
    "image = cv2.imread(r\"C:\\Users\\Mega Computers\\Downloads\\cars.jpg\")\n",
    "gray = cv2.cvtColor(image, cv2.COLOR_BGR2GRAY)  # Convert to grayscale\n",
    "\n",
    "# Apply Gaussian Blur to reduce noise\n",
    "blurred = cv2.GaussianBlur(gray, (5, 5), 0)\n",
    "\n",
    "# Edge detection using Canny\n",
    "edges = cv2.Canny(blurred, 50, 150)\n",
    "\n",
    "# Find contours from the edged image\n",
    "contours, _ = cv2.findContours(edges, cv2.RETR_EXTERNAL, cv2.CHAIN_APPROX_SIMPLE)\n",
    "\n",
    "# Draw the contours on the original image\n",
    "for contour in contours:\n",
    "    # Filter small contours to reduce noise\n",
    "    if cv2.contourArea(contour) > 100:\n",
    "        # Draw bounding box around each detected object\n",
    "        x, y, w, h = cv2.boundingRect(contour)\n",
    "        cv2.rectangle(image, (x, y), (x + w, y + h), (0, 255, 0), 2)\n",
    "\n",
    "# Display the image with detected objects\n",
    "cv2.imshow(\"Detected Objects\", image)\n",
    "cv2.waitKey(0)\n",
    "cv2.destroyAllWindows()\n"
   ]
  },
  {
   "cell_type": "code",
   "execution_count": null,
   "id": "3186f6de-f58e-4f29-9afc-0c68591432f2",
   "metadata": {},
   "outputs": [],
   "source": [
    "bags of words convert into vector"
   ]
  },
  {
   "cell_type": "code",
   "execution_count": null,
   "id": "874fd5a1-ceda-4488-a901-ceb65597fce4",
   "metadata": {},
   "outputs": [],
   "source": []
  },
  {
   "cell_type": "markdown",
   "id": "7daaf8bc-9c57-4b74-9512-290378535b27",
   "metadata": {},
   "source": [
    "# Image background Removal Histogram"
   ]
  },
  {
   "cell_type": "code",
   "execution_count": 7,
   "id": "ed7a2edc-e737-4946-9f6a-629450ec579d",
   "metadata": {},
   "outputs": [],
   "source": [
    "import cv2"
   ]
  },
  {
   "cell_type": "code",
   "execution_count": 8,
   "id": "3d62350e-1d72-43e6-b836-bbc22df44b01",
   "metadata": {},
   "outputs": [
    {
     "ename": "error",
     "evalue": "OpenCV(4.10.0) :-1: error: (-5:Bad argument) in function 'calcBackProject'\n> Overload resolution failed:\n>  - calcBackProject() missing required argument 'scale' (pos 5)\n>  - calcBackProject() missing required argument 'scale' (pos 5)\n",
     "output_type": "error",
     "traceback": [
      "\u001b[1;31m---------------------------------------------------------------------------\u001b[0m",
      "\u001b[1;31merror\u001b[0m                                     Traceback (most recent call last)",
      "Cell \u001b[1;32mIn[8], line 9\u001b[0m\n\u001b[0;32m      6\u001b[0m hsv2 \u001b[38;5;241m=\u001b[39m cv2\u001b[38;5;241m.\u001b[39mcvtColor(img1 , cv2\u001b[38;5;241m.\u001b[39mCOLOR_BGR2HSV)\n\u001b[0;32m      8\u001b[0m hist \u001b[38;5;241m=\u001b[39m cv2\u001b[38;5;241m.\u001b[39mcalcHist([hsv2] , [\u001b[38;5;241m0\u001b[39m,\u001b[38;5;241m1\u001b[39m] , \u001b[38;5;28;01mNone\u001b[39;00m , [\u001b[38;5;241m180\u001b[39m , \u001b[38;5;241m256\u001b[39m] ,[\u001b[38;5;241m0\u001b[39m , \u001b[38;5;241m180\u001b[39m,\u001b[38;5;241m0\u001b[39m,\u001b[38;5;241m256\u001b[39m ] )\n\u001b[1;32m----> 9\u001b[0m mask \u001b[38;5;241m=\u001b[39m \u001b[43mcv2\u001b[49m\u001b[38;5;241;43m.\u001b[39;49m\u001b[43mcalcBackProject\u001b[49m\u001b[43m(\u001b[49m\u001b[43m[\u001b[49m\u001b[43mhsv\u001b[49m\u001b[43m]\u001b[49m\u001b[43m \u001b[49m\u001b[43m,\u001b[49m\u001b[43m \u001b[49m\u001b[43m[\u001b[49m\u001b[38;5;241;43m0\u001b[39;49m\u001b[43m,\u001b[49m\u001b[38;5;241;43m1\u001b[39;49m\u001b[43m]\u001b[49m\u001b[43m \u001b[49m\u001b[43m,\u001b[49m\u001b[43m \u001b[49m\u001b[43mhist\u001b[49m\u001b[43m \u001b[49m\u001b[43m,\u001b[49m\u001b[43m \u001b[49m\u001b[43m[\u001b[49m\u001b[38;5;241;43m0\u001b[39;49m\u001b[43m \u001b[49m\u001b[43m,\u001b[49m\u001b[43m \u001b[49m\u001b[38;5;241;43m180\u001b[39;49m\u001b[43m \u001b[49m\u001b[43m,\u001b[49m\u001b[43m \u001b[49m\u001b[38;5;241;43m0\u001b[39;49m\u001b[43m \u001b[49m\u001b[43m,\u001b[49m\u001b[43m \u001b[49m\u001b[38;5;241;43m256\u001b[39;49m\u001b[43m]\u001b[49m\u001b[43m)\u001b[49m\n\u001b[0;32m     11\u001b[0m res \u001b[38;5;241m=\u001b[39m cv2\u001b[38;5;241m.\u001b[39mbitwise_or(img , img , mask \u001b[38;5;241m=\u001b[39m mask)\n\u001b[0;32m     12\u001b[0m cv2\u001b[38;5;241m.\u001b[39mimshow(\u001b[38;5;124m\"\u001b[39m\u001b[38;5;124mres\u001b[39m\u001b[38;5;124m\"\u001b[39m, res)\n",
      "\u001b[1;31merror\u001b[0m: OpenCV(4.10.0) :-1: error: (-5:Bad argument) in function 'calcBackProject'\n> Overload resolution failed:\n>  - calcBackProject() missing required argument 'scale' (pos 5)\n>  - calcBackProject() missing required argument 'scale' (pos 5)\n"
     ]
    }
   ],
   "source": [
    "img = cv2.imread(\"maxresdefault.jpg\")\n",
    "img = cv2.resize(img , (600,500))\n",
    "hsv = cv2.cvtColor(img , cv2.COLOR_BGR2GRAY)\n",
    "\n",
    "img1 = cv2.imread(\"Screenshot 2024-11-16 105851.png\")\n",
    "hsv2 = cv2.cvtColor(img1 , cv2.COLOR_BGR2HSV)\n",
    "\n",
    "hist = cv2.calcHist([hsv2] , [0,1] , None , [180 , 256] ,[0 , 180,0,256 ] )\n",
    "mask = cv2.calcBackProject([hsv] , [0,1] , hist , [0 , 180 , 0 , 256])\n",
    "\n",
    "res = cv2.bitwise_or(img , img , mask = mask)\n",
    "cv2.imshow(\"res\", res)\n",
    "cv2.imshow(\"img\", img)\n",
    "cv2.waitKey(0)\n",
    "cv2.destroyAllWindows()"
   ]
  },
  {
   "cell_type": "code",
   "execution_count": 9,
   "id": "08f24656-f99b-49d7-88cb-42ea7bcafbd1",
   "metadata": {},
   "outputs": [],
   "source": [
    "import cv2\n",
    "\n",
    "# Read and resize the first image\n",
    "img = cv2.imread(\"maxresdefault.jpg\")\n",
    "img = cv2.resize(img, (600, 500))\n",
    "hsv = cv2.cvtColor(img, cv2.COLOR_BGR2HSV)  # Convert to HSV (not GRAY)\n",
    "\n",
    "# Read the second image and convert to HSV\n",
    "img1 = cv2.imread(\"Screenshot 2024-11-16 105851.png\")\n",
    "hsv2 = cv2.cvtColor(img1, cv2.COLOR_BGR2HSV)\n",
    "\n",
    "# Calculate the histogram for the second image\n",
    "hist = cv2.calcHist([hsv2], [0, 1], None, [180, 256], [0, 180, 0, 256])\n",
    "\n",
    "# Normalize the histogram (optional, but recommended)\n",
    "cv2.normalize(hist, hist, 0, 255, cv2.NORM_MINMAX)\n",
    "\n",
    "# Calculate the back projection of the first image\n",
    "mask = cv2.calcBackProject([hsv], [0, 1], hist, [0, 180, 0, 256], scale=1)\n",
    "\n",
    "# Apply the mask to the original image\n",
    "res = cv2.bitwise_and(img, img, mask=mask)\n",
    "\n",
    "# Display the results\n",
    "cv2.imshow(\"Result\", res)\n",
    "cv2.imshow(\"Original Image\", img)\n",
    "cv2.waitKey(0)\n",
    "cv2.destroyAllWindows()\n"
   ]
  },
  {
   "cell_type": "code",
   "execution_count": null,
   "id": "1b077abe-eb80-4a0c-b627-a4353c68ef94",
   "metadata": {},
   "outputs": [],
   "source": []
  }
 ],
 "metadata": {
  "kernelspec": {
   "display_name": "Python 3 (ipykernel)",
   "language": "python",
   "name": "python3"
  },
  "language_info": {
   "codemirror_mode": {
    "name": "ipython",
    "version": 3
   },
   "file_extension": ".py",
   "mimetype": "text/x-python",
   "name": "python",
   "nbconvert_exporter": "python",
   "pygments_lexer": "ipython3",
   "version": "3.11.4"
  }
 },
 "nbformat": 4,
 "nbformat_minor": 5
}

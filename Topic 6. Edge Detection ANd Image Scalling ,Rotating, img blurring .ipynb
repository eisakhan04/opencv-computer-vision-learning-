{
 "cells": [
  {
   "cell_type": "markdown",
   "id": "077c3b2e-037e-492a-8bab-d4d869568f47",
   "metadata": {},
   "source": [
    "# Edge Detection "
   ]
  },
  {
   "cell_type": "code",
   "execution_count": 1,
   "id": "f887a34d-2d60-4d1c-87f0-c17d235379c9",
   "metadata": {},
   "outputs": [],
   "source": [
    "import cv2\n",
    "import numpy as np "
   ]
  },
  {
   "cell_type": "code",
   "execution_count": 5,
   "id": "7168a079-7ffb-4253-b0a5-40cf2603b138",
   "metadata": {},
   "outputs": [
    {
     "name": "stdout",
     "output_type": "stream",
     "text": [
      "(500, 500, 3)\n",
      "(500, 500)\n"
     ]
    }
   ],
   "source": [
    "img1 = cv2.imread(\"WhatsApp Image 2024-08-30 at 10.03.11 PM.jpeg\")\n",
    "img1 = cv2.resize(img1 , (500 ,500))\n",
    "print(img1.shape)\n",
    "\n",
    "new_img = cv2.Canny(img1 , 200,200 , apertureSize=5)\n",
    "print(new_img.shape)\n",
    "\n",
    "\n",
    "cv2.imshow(\"Edge Detection\" , new_img)\n",
    "cv2.imshow(\"Edge Detections\" ,img1)\n",
    "cv2.waitKey(0)\n",
    "cv2.destroyAllWindows()"
   ]
  },
  {
   "cell_type": "markdown",
   "id": "2db9e3fd-68b2-4bfb-a9df-c84450f2cec1",
   "metadata": {},
   "source": [
    "# Image Scalling ,Rotating"
   ]
  },
  {
   "cell_type": "code",
   "execution_count": 8,
   "id": "ed9634f5-d23b-437b-b14c-508a5c3efa86",
   "metadata": {},
   "outputs": [],
   "source": [
    "img1 = cv2.imread(\"WhatsApp Image 2024-08-30 at 10.03.11 PM.jpeg\")\n",
    "img1 = cv2.resize(img1 , (500 ,500))\n",
    "w , h = img1.shape[0],img1.shape[1]\n",
    "\n",
    "\n",
    "m = cv2.getRotationMatrix2D((w/2,h/2),80 ,1)\n",
    "new_img = cv2.warpAffine(img1 , m , (w,h))\n",
    "\n",
    "h = np.hstack((img1 ,new_img ))\n",
    "cv2.imshow(\"Image Scalling ,Rotating \" , h)\n",
    "\n",
    "cv2.waitKey(0)\n",
    "cv2.destroyAllWindows()"
   ]
  },
  {
   "cell_type": "code",
   "execution_count": 11,
   "id": "8aac584d-f987-4fb1-bdd0-09bd90c60bbd",
   "metadata": {},
   "outputs": [],
   "source": [
    "cv2.imshow(\"Image Scalling ,Rotating \" , new_img)\n",
    "cv2.imshow(\"Image Scalling ,Rotating img1\" ,img1)\n",
    "cv2.waitKey()\n",
    "cv2.destroyAllWindows()"
   ]
  },
  {
   "cell_type": "markdown",
   "id": "d9efc57e-7b93-42d4-b2dc-a2f77dd9e095",
   "metadata": {},
   "source": [
    "# Image Blurring Using OpenCV"
   ]
  },
  {
   "cell_type": "code",
   "execution_count": null,
   "id": "0dd27277-a97a-48f6-b74d-be9913548f3f",
   "metadata": {},
   "outputs": [],
   "source": [
    "import cv2\n",
    "import numpy as np "
   ]
  },
  {
   "cell_type": "markdown",
   "id": "6a864150-a63b-4104-9645-cd81ab08d975",
   "metadata": {},
   "source": [
    "# GaussianBlur"
   ]
  },
  {
   "cell_type": "code",
   "execution_count": 25,
   "id": "52dda05f-b713-4036-9e4f-244fefb15ae1",
   "metadata": {},
   "outputs": [],
   "source": [
    "org_img = cv2.imread(\"WhatsApp Image 2024-08-30 at 10.03.11 PM.jpeg\")\n",
    "res_img = cv2.resize(org_img , (500 , 500))\n",
    "\n",
    "g = cv2.GaussianBlur(res_img , (5,5),0)\n",
    "\n",
    "h = np.hstack((g , res_img ))\n",
    "\n",
    "#cv2.imshow(\"res_img\" , res_img)\n",
    "cv2.imshow(\"blurring\" , h)\n",
    "cv2.waitKey(0)\n",
    "cv2.destroyAllWindows()"
   ]
  },
  {
   "cell_type": "code",
   "execution_count": 38,
   "id": "120cbed4-9445-498e-8d39-d5697aedb30c",
   "metadata": {},
   "outputs": [],
   "source": [
    "import cv2\n",
    "import numpy as np\n",
    "\n",
    "# Read the original image\n",
    "org_img = cv2.imread(\"WhatsApp Image 2024-08-30 at 10.03.11 PM.jpeg\")\n",
    "\n",
    "# Resize the image to 500x500\n",
    "res_img = cv2.resize(org_img, (300, 300))\n",
    "\n",
    "# Apply Gaussian blur to the resized image\n",
    "g = cv2.GaussianBlur(res_img, (5, 5), 0)\n",
    "m = cv2.medianBlur(res_img,5)\n",
    "b = cv2.bilateralFilter(res_img, 9 , 75,75)\n",
    "\n",
    "# Stack the blurred and the original resized images horizontally\n",
    "h = np.hstack((g,m,b, res_img))\n",
    "\n",
    "# Display the combined image\n",
    "cv2.imshow(\"blurring\", h)\n",
    "cv2.waitKey(0)\n",
    "cv2.destroyAllWindows()\n"
   ]
  },
  {
   "cell_type": "markdown",
   "id": "f921f698-cfe7-4a33-955c-cc9266a3bd70",
   "metadata": {},
   "source": [
    "# medianBlur"
   ]
  },
  {
   "cell_type": "code",
   "execution_count": 30,
   "id": "95614905-2aee-4968-879f-5d4f71ae9860",
   "metadata": {},
   "outputs": [],
   "source": [
    "import cv2\n",
    "import numpy as np\n",
    "\n",
    "# Read the original image\n",
    "org_img = cv2.imread(\"WhatsApp Image 2024-08-30 at 10.03.11 PM.jpeg\")\n",
    "\n",
    "# Resize the image to 500x500\n",
    "res_img = cv2.resize(org_img, (500, 500))\n",
    "\n",
    "# Apply medianBlur blur to the resized image\n",
    "g = cv2.medianBlur(res_img, 3)\n",
    "\n",
    "# Stack the blurred and the original resized images horizontally\n",
    "h = np.hstack((g, res_img))\n",
    "\n",
    "# Display the combined image\n",
    "cv2.imshow(\"blurring\", h)\n",
    "cv2.waitKey(0)\n",
    "cv2.destroyAllWindows()\n"
   ]
  },
  {
   "cell_type": "markdown",
   "id": "e376f946-9710-4ec1-81ca-8e3694b265a5",
   "metadata": {},
   "source": [
    "# bilateralFilter"
   ]
  },
  {
   "cell_type": "code",
   "execution_count": 36,
   "id": "b6137553-c124-49c7-993c-219dcb3e46f6",
   "metadata": {},
   "outputs": [],
   "source": [
    "import cv2\n",
    "import numpy as np\n",
    "\n",
    "# Read the original image\n",
    "org_img = cv2.imread(\"WhatsApp Image 2024-08-30 at 10.03.11 PM.jpeg\")\n",
    "\n",
    "# Resize the image to 500x500\n",
    "res_img = cv2.resize(org_img, (500, 500))\n",
    "\n",
    "# Apply medianBlur blur to the resized image\n",
    "b = cv2.bilateralFilter(res_img, 8 ,757,5)\n",
    "\n",
    "# Stack the blurred and the original resized images horizontally\n",
    "h = np.hstack((b, res_img))\n",
    "\n",
    "# Display the combined image\n",
    "cv2.imshow(\"blurring\", h)\n",
    "cv2.waitKey(0)\n",
    "cv2.destroyAllWindows()\n"
   ]
  },
  {
   "cell_type": "code",
   "execution_count": null,
   "id": "d482e4fd-5cd3-40ab-87d5-0d64ef11f35a",
   "metadata": {},
   "outputs": [],
   "source": []
  },
  {
   "cell_type": "code",
   "execution_count": null,
   "id": "3846e879-1051-4d13-b5e1-5e6e00960fae",
   "metadata": {},
   "outputs": [],
   "source": []
  },
  {
   "cell_type": "code",
   "execution_count": null,
   "id": "1afe0ab2-8ba2-4cf2-ae3b-be8b4dfbade5",
   "metadata": {},
   "outputs": [],
   "source": []
  },
  {
   "cell_type": "code",
   "execution_count": null,
   "id": "e25b7691-790d-4302-951f-64c3563306c1",
   "metadata": {},
   "outputs": [],
   "source": []
  }
 ],
 "metadata": {
  "kernelspec": {
   "display_name": "Python 3 (ipykernel)",
   "language": "python",
   "name": "python3"
  },
  "language_info": {
   "codemirror_mode": {
    "name": "ipython",
    "version": 3
   },
   "file_extension": ".py",
   "mimetype": "text/x-python",
   "name": "python",
   "nbconvert_exporter": "python",
   "pygments_lexer": "ipython3",
   "version": "3.8.19"
  }
 },
 "nbformat": 4,
 "nbformat_minor": 5
}

{
 "cells": [
  {
   "cell_type": "markdown",
   "id": "616641f2-3dae-4709-8934-0ec7e80be257",
   "metadata": {},
   "source": [
    "# Morphological operation"
   ]
  },
  {
   "cell_type": "code",
   "execution_count": 5,
   "id": "e9a00a15-b781-4d0e-853e-76ad8860ca74",
   "metadata": {},
   "outputs": [],
   "source": [
    "import cv2    \n",
    "import numpy as np"
   ]
  },
  {
   "cell_type": "code",
   "execution_count": 14,
   "id": "c71c3692-8c3f-44ef-a765-72bd7c84715e",
   "metadata": {
    "scrolled": true
   },
   "outputs": [
    {
     "name": "stdout",
     "output_type": "stream",
     "text": [
      "[[1 1 1 1 1 1 1 1 1 1 1 1 1 1 1]\n",
      " [1 1 1 1 1 1 1 1 1 1 1 1 1 1 1]\n",
      " [1 1 1 1 1 1 1 1 1 1 1 1 1 1 1]\n",
      " [1 1 1 1 1 1 1 1 1 1 1 1 1 1 1]\n",
      " [1 1 1 1 1 1 1 1 1 1 1 1 1 1 1]\n",
      " [1 1 1 1 1 1 1 1 1 1 1 1 1 1 1]\n",
      " [1 1 1 1 1 1 1 1 1 1 1 1 1 1 1]\n",
      " [1 1 1 1 1 1 1 1 1 1 1 1 1 1 1]\n",
      " [1 1 1 1 1 1 1 1 1 1 1 1 1 1 1]\n",
      " [1 1 1 1 1 1 1 1 1 1 1 1 1 1 1]\n",
      " [1 1 1 1 1 1 1 1 1 1 1 1 1 1 1]\n",
      " [1 1 1 1 1 1 1 1 1 1 1 1 1 1 1]\n",
      " [1 1 1 1 1 1 1 1 1 1 1 1 1 1 1]\n",
      " [1 1 1 1 1 1 1 1 1 1 1 1 1 1 1]\n",
      " [1 1 1 1 1 1 1 1 1 1 1 1 1 1 1]]\n"
     ]
    }
   ],
   "source": [
    "img = cv2.imread(\"images.png\")\n",
    "img = cv2.resize(img , (500,500))\n",
    "\n",
    "m = np.ones((15,15),np.int8)\n",
    "print(m)\n",
    "\n",
    "er = cv2.erode(img , m , iterations=1)\n",
    "di = cv2.dilate(img , m , iterations=1)\n",
    "\n",
    "cv2.imshow(\"morphological\" , img)\n",
    "cv2.imshow(\"erode\" , er)\n",
    "cv2.imshow(\"dilate\" , di)\n",
    "cv2.imshow(\"dilate\" , di)\n",
    "cv2.waitKey(0)\n",
    "cv2.destroyAllWindows()"
   ]
  },
  {
   "cell_type": "code",
   "execution_count": 13,
   "id": "f9c54434-0942-4259-8a92-9ebe3ddce509",
   "metadata": {},
   "outputs": [],
   "source": [
    "# Exmachina "
   ]
  },
  {
   "cell_type": "code",
   "execution_count": 25,
   "id": "157b182a-cd59-48b7-baf7-03a35e241fe2",
   "metadata": {},
   "outputs": [],
   "source": [
    "img = cv2.imread(\"morph_close.png\")\n",
    "img = cv2.resize(img , (500,500))\n",
    "\n",
    "k = np.ones((30,30),np.int8)\n",
    "\n",
    "#op = cv2.morphologyEx(img , cv2.MORPH_OPEN , k , iterations=1)\n",
    "# cl = cv2.morphologyEx(img , cv2.MORPH_CLOSE , k , iterations=1)\n",
    "# gr = cv2.morphologyEx(img , cv2.MORPH_GRADIENT , k , iterations=1)\n",
    "# tp = cv2.morphologyEx(img , cv2.MORPH_TOPHAT , k , iterations=1)\n",
    "tp = cv2.morphologyEx(img , cv2.MORPH_BLACKHAT , k , iterations=1)\n",
    "cv2.imshow(\"org\" , img)\n",
    "cv2.imshow(\"morphologyEx\" , tp)\n",
    "cv2.waitKey(0)\n",
    "cv2.destroyAllWindows()"
   ]
  },
  {
   "cell_type": "markdown",
   "id": "e52edd0b-dcb2-4974-b606-ca8aa696310a",
   "metadata": {},
   "source": [
    "# Image Pyramid"
   ]
  },
  {
   "cell_type": "code",
   "execution_count": 29,
   "id": "9f8f4651-66a4-456a-bf8a-62cf40c34dc7",
   "metadata": {},
   "outputs": [],
   "source": [
    "img = cv2.imread(\"WhatsApp Image 2024-08-30 at 10.03.11 PM.jpeg\")\n",
    "img = cv2.resize(img , (500,500))\n",
    "\n",
    "\n",
    "\n",
    "cv2.imshow(\"img\" , img)\n",
    "cv2.waitKey(0)\n",
    "cv2.destroyAllWindows()"
   ]
  },
  {
   "cell_type": "code",
   "execution_count": 33,
   "id": "59d4d453-897a-460c-ae29-72f158d8b4c9",
   "metadata": {},
   "outputs": [
    {
     "name": "stdout",
     "output_type": "stream",
     "text": [
      "(4160, 3120, 3)\n",
      "(2080, 1560, 3)\n",
      "(1040, 780, 3)\n",
      "(520, 390, 3)\n",
      "(2080, 1560, 3)\n"
     ]
    }
   ],
   "source": [
    "img = cv2.imread(\"WhatsApp Image 2024-08-30 at 10.03.11 PM.jpeg\")\n",
    "print(img.shape)\n",
    "\n",
    "new = cv2.pyrDown(img)\n",
    "print(new.shape)\n",
    "\n",
    "new1 = cv2.pyrDown(new)\n",
    "print(new1.shape)\n",
    "\n",
    "new2 = cv2.pyrDown(new1)\n",
    "print(new2.shape)\n",
    "\n",
    "big_img = cv2.pyrUp(new1)\n",
    "print(big_img.shape)\n",
    "# cv2.imshow(\"img\" , img)\n",
    "# cv2.imshow(\"img1\" , new)\n",
    "# cv2.imshow(\"img2\" , new1)\n",
    "cv2.imshow(\"img3\" , new1)\n",
    "cv2.imshow(\"big img\" , big_img)\n",
    "\n",
    "cv2.waitKey(0)\n",
    "cv2.destroyAllWindows()"
   ]
  },
  {
   "cell_type": "markdown",
   "id": "b1c2d891-9b01-46c0-958e-7f51820303cd",
   "metadata": {},
   "source": [
    "# Image Translation "
   ]
  },
  {
   "cell_type": "code",
   "execution_count": 34,
   "id": "3ec27c9a-308e-4847-af99-b5bd2cbccf92",
   "metadata": {},
   "outputs": [],
   "source": [
    "import numpy as np"
   ]
  },
  {
   "cell_type": "code",
   "execution_count": 35,
   "id": "e5d26667-d634-4224-8ebf-2afcf8fafab7",
   "metadata": {},
   "outputs": [],
   "source": [
    "img = cv2.imread(\"WhatsApp Image 2024-08-30 at 10.03.11 PM.jpeg\")\n",
    "img = cv2.resize(img , (500,500))\n",
    "\n",
    "m = np.float32([[1,0,100], [0,1,50]])\n",
    "\n",
    "new = cv2.warpAffine(img , m , (500 , 500))\n",
    "\n",
    "cv2.imshow(\"img translation \" , img)\n",
    "cv2.imshow(\"img translation1 \" , m)\n",
    "cv2.imshow(\"img translation2 \" , new)\n",
    "\n",
    "cv2.waitKey(0)\n",
    "cv2.destroyAllWindows()"
   ]
  },
  {
   "cell_type": "markdown",
   "id": "d431c47e-81d1-4707-a2d9-00dfafb3280f",
   "metadata": {},
   "source": [
    "# Geometric Transformations"
   ]
  },
  {
   "cell_type": "code",
   "execution_count": null,
   "id": "d0597319-bf91-4463-9782-2d70b856b2a7",
   "metadata": {},
   "outputs": [],
   "source": []
  },
  {
   "cell_type": "code",
   "execution_count": null,
   "id": "ec80b660-0aa5-41ac-a21b-5c4eceedd384",
   "metadata": {},
   "outputs": [],
   "source": []
  },
  {
   "cell_type": "markdown",
   "id": "9bd89eab-aab2-4ca2-9c7c-d9682b4d1cda",
   "metadata": {},
   "source": [
    "# BackGround Subtraction"
   ]
  },
  {
   "cell_type": "code",
   "execution_count": 38,
   "id": "0feffc66-64c4-474f-a173-b05561f3ce32",
   "metadata": {},
   "outputs": [],
   "source": [
    "cap = cv2.VideoCapture(r\"G:\\final-1.mp4\")\n",
    "\n",
    "sub_m = cv2.createBackgroundSubtractorMOG2()\n",
    "\n",
    "while cap.isOpened():\n",
    "    r , frame = cap.read()\n",
    "    if r == True:\n",
    "        frame = cv2.resize(frame , (700,500))\n",
    "        sub_v = sub_m.apply(frame)\n",
    "        cv2.imshow(\"background\" , sub_v)\n",
    "        cv2.imshow(\"video\", frame )\n",
    "        if cv2.waitKey(25) & 0xff == ord(\"p\"):\n",
    "            break\n",
    "    else:\n",
    "        break\n",
    "\n",
    "cap.release()\n",
    "cv2.destroyAllWindows()"
   ]
  },
  {
   "cell_type": "code",
   "execution_count": null,
   "id": "aff44548-5293-4328-a060-55c6dbed6145",
   "metadata": {},
   "outputs": [],
   "source": []
  },
  {
   "cell_type": "markdown",
   "id": "5ceb39af-2e37-4ec4-b020-a68569f71c6c",
   "metadata": {},
   "source": [
    "# Extract images from video using OpenCV"
   ]
  },
  {
   "cell_type": "code",
   "execution_count": 1,
   "id": "e87390d0-47ef-4eca-8e13-3a8135104391",
   "metadata": {},
   "outputs": [],
   "source": [
    "import cv2"
   ]
  },
  {
   "cell_type": "code",
   "execution_count": 2,
   "id": "596815cd-fcbe-4911-bf9f-2025675ab9a3",
   "metadata": {},
   "outputs": [
    {
     "ename": "error",
     "evalue": "OpenCV(4.10.0) D:\\a\\opencv-python\\opencv-python\\opencv\\modules\\imgcodecs\\src\\loadsave.cpp:708: error: (-2:Unspecified error) could not find a writer for the specified extension in function 'cv::imwrite_'\n",
     "output_type": "error",
     "traceback": [
      "\u001b[1;31m---------------------------------------------------------------------------\u001b[0m",
      "\u001b[1;31merror\u001b[0m                                     Traceback (most recent call last)",
      "Cell \u001b[1;32mIn[2], line 8\u001b[0m\n\u001b[0;32m      6\u001b[0m frame \u001b[38;5;241m=\u001b[39m cv2\u001b[38;5;241m.\u001b[39mresize(frame , (\u001b[38;5;241m500\u001b[39m , \u001b[38;5;241m500\u001b[39m))\n\u001b[0;32m      7\u001b[0m filename \u001b[38;5;241m=\u001b[39m \u001b[38;5;124m\"\u001b[39m\u001b[38;5;124mG://org_img\u001b[39m\u001b[38;5;124m\"\u001b[39m\u001b[38;5;241m+\u001b[39m\u001b[38;5;28mstr\u001b[39m(c) \u001b[38;5;241m+\u001b[39m \u001b[38;5;124m\"\u001b[39m\u001b[38;5;124mpng\u001b[39m\u001b[38;5;124m\"\u001b[39m\n\u001b[1;32m----> 8\u001b[0m \u001b[43mcv2\u001b[49m\u001b[38;5;241;43m.\u001b[39;49m\u001b[43mimwrite\u001b[49m\u001b[43m(\u001b[49m\u001b[43mfilename\u001b[49m\u001b[43m \u001b[49m\u001b[43m,\u001b[49m\u001b[43m \u001b[49m\u001b[43mframe\u001b[49m\u001b[43m)\u001b[49m \n\u001b[0;32m      9\u001b[0m cv2\u001b[38;5;241m.\u001b[39mimshow(\u001b[38;5;124m\"\u001b[39m\u001b[38;5;124mextract images\u001b[39m\u001b[38;5;124m\"\u001b[39m, frame)\n\u001b[0;32m     10\u001b[0m c\u001b[38;5;241m=\u001b[39mc\u001b[38;5;241m+\u001b[39m\u001b[38;5;241m1\u001b[39m\n",
      "\u001b[1;31merror\u001b[0m: OpenCV(4.10.0) D:\\a\\opencv-python\\opencv-python\\opencv\\modules\\imgcodecs\\src\\loadsave.cpp:708: error: (-2:Unspecified error) could not find a writer for the specified extension in function 'cv::imwrite_'\n"
     ]
    }
   ],
   "source": [
    "cap = cv2.VideoCapture(r\"G:\\final-1.mp4\")\n",
    "c=0\n",
    "while True :\n",
    "    r , frame = cap.read()\n",
    "    if r == True:\n",
    "        frame = cv2.resize(frame , (500 , 500))\n",
    "        filename = \"G://org_img\"+str(c) + \"png\"\n",
    "        cv2.imwrite(filename , frame) \n",
    "        cv2.imshow(\"extract images\", frame)\n",
    "        c=c+1\n",
    "        if cv2.waitKey(25) & 0xff == ord(\"p\"):\n",
    "            break\n",
    "    else :\n",
    "        break\n",
    "cap.release()\n",
    "cv2.destroyAllWindows()"
   ]
  },
  {
   "cell_type": "code",
   "execution_count": 7,
   "id": "5b9734ef-c123-49eb-985e-3d4add2c2323",
   "metadata": {},
   "outputs": [],
   "source": [
    "import cv2\n",
    "\n",
    "# Capture the video\n",
    "cap = cv2.VideoCapture(r\"G:\\final-1.mp4\")\n",
    "c = 0\n",
    "\n",
    "# Loop to extract frames\n",
    "while True:\n",
    "    r, frame = cap.read()\n",
    "    if r:\n",
    "        # Resize the frame to 500x500 pixels\n",
    "        frame = cv2.resize(frame, (500, 500))\n",
    "        \n",
    "        # Correct the filename by adding a period before 'png'\n",
    "        filename = \"G://org_img\" + str(c) + \".png\"\n",
    "        \n",
    "        # Save the current frame as an image\n",
    "        cv2.imwrite(filename, frame)\n",
    "        \n",
    "        # Display the frame\n",
    "        cv2.imshow(\"extract images\", frame)\n",
    "        \n",
    "        # Increment the frame counter\n",
    "        c = c + 1\n",
    "        \n",
    "        # Break the loop if the 'p' key is pressed\n",
    "        if cv2.waitKey(25) & 0xFF == ord('p'):\n",
    "            break\n",
    "    else:\n",
    "        break\n",
    "\n",
    "# Release the video capture object and close all windows\n",
    "cap.release()\n",
    "cv2.destroyAllWindows()\n"
   ]
  },
  {
   "cell_type": "markdown",
   "id": "b46be42f-949d-4feb-9bc1-9464bbbd0318",
   "metadata": {},
   "source": [
    "# cvtColor method in opencv"
   ]
  },
  {
   "cell_type": "code",
   "execution_count": 3,
   "id": "c1171a79-7356-450d-be07-b431097cabf2",
   "metadata": {},
   "outputs": [],
   "source": [
    "import cv2 "
   ]
  },
  {
   "cell_type": "code",
   "execution_count": 9,
   "id": "0e8fed5f-c87d-460f-9280-fe9e8c4c9c26",
   "metadata": {},
   "outputs": [],
   "source": [
    "img = cv2.imread(\"WhatsApp Image 2024-08-30 at 10.03.11 PM.jpeg\")\n",
    "img = cv2.resize(img , (500,500))\n",
    "\n",
    "new = cv2.cvtColor(img ,cv2.COLOR_BGR2LAB )\n",
    "\n",
    "\n",
    "cv2.imshow(\"org\", img)\n",
    "cv2.imshow(\"new\", new)\n",
    "cv2.waitKey(0)\n",
    "cv2.destroyAllWindows()"
   ]
  },
  {
   "cell_type": "code",
   "execution_count": null,
   "id": "2b35656b-ce24-4a2e-986e-162630f180c6",
   "metadata": {},
   "outputs": [],
   "source": []
  },
  {
   "cell_type": "markdown",
   "id": "c9d3fb6e-36bf-4c92-a5a9-576c12ce9284",
   "metadata": {},
   "source": [
    "# Crop image in opencv"
   ]
  },
  {
   "cell_type": "code",
   "execution_count": 14,
   "id": "6fd81c86-4bb6-451e-87fb-6f9fd4bb21b5",
   "metadata": {},
   "outputs": [
    {
     "name": "stdout",
     "output_type": "stream",
     "text": [
      "(500, 500, 3)\n"
     ]
    }
   ],
   "source": [
    "import cv2 \n",
    "\n",
    "img = cv2.imread(\"WhatsApp Image 2024-08-30 at 10.03.11 PM.jpeg\")\n",
    "img = cv2.resize(img , (500,500))\n",
    "\n",
    "print(img.shape)\n",
    "\n",
    "crop = img[120:200,:400]\n",
    "\n",
    "\n",
    "cv2.imshow(\"org\", img)\n",
    "cv2.imshow(\"new\", crop)\n",
    "cv2.waitKey(0)\n",
    "cv2.destroyAllWindows()\n"
   ]
  },
  {
   "cell_type": "markdown",
   "id": "bf172316-b5ea-4fef-9c08-5357022950c2",
   "metadata": {},
   "source": [
    "# Create blank Image "
   ]
  },
  {
   "cell_type": "code",
   "execution_count": 1,
   "id": "3763ddca-0979-4a35-8900-d9330c027476",
   "metadata": {},
   "outputs": [
    {
     "name": "stdout",
     "output_type": "stream",
     "text": [
      "(500, 500, 3)\n"
     ]
    }
   ],
   "source": [
    "import cv2 \n",
    "import numpy as np\n",
    "\n",
    "img = cv2.imread(\"WhatsApp Image 2024-08-30 at 10.03.11 PM.jpeg\")\n",
    "img = cv2.resize(img , (500,500))\n",
    "\n",
    "print(img.shape)\n",
    "new = np.ones((500 ,500 ,3) , np.uint8)*255\n",
    "\n",
    "\n",
    "\n",
    "cv2.imshow(\"org\", img)\n",
    "cv2.imshow(\"new\",new )\n",
    "cv2.waitKey(0)\n",
    "cv2.destroyAllWindows()\n"
   ]
  },
  {
   "cell_type": "code",
   "execution_count": 15,
   "id": "eef9d86b-b82b-406d-8e85-a17f8397bb71",
   "metadata": {},
   "outputs": [
    {
     "name": "stdout",
     "output_type": "stream",
     "text": [
      "[[[141 161 203]\n",
      "  [143 162 205]\n",
      "  [143 162 205]\n",
      "  ...\n",
      "  [190 213 255]\n",
      "  [195 214 254]\n",
      "  [149 180 229]]\n",
      "\n",
      " [[142 161 204]\n",
      "  [142 161 204]\n",
      "  [142 161 204]\n",
      "  ...\n",
      "  [195 214 253]\n",
      "  [196 215 252]\n",
      "  [140 175 229]]\n",
      "\n",
      " [[140 161 206]\n",
      "  [141 162 207]\n",
      "  [141 163 205]\n",
      "  ...\n",
      "  [207 221 252]\n",
      "  [192 212 255]\n",
      "  [124 163 229]]\n",
      "\n",
      " ...\n",
      "\n",
      " [[170  78   0]\n",
      "  [170  78   0]\n",
      "  [170  78   0]\n",
      "  ...\n",
      "  [175 177 195]\n",
      "  [175 177 195]\n",
      "  [161 165 177]]\n",
      "\n",
      " [[175  75   1]\n",
      "  [168  76   0]\n",
      "  [169  75   0]\n",
      "  ...\n",
      "  [175 178 192]\n",
      "  [175 177 195]\n",
      "  [158 163 172]]\n",
      "\n",
      " [[168  73   3]\n",
      "  [158  68   4]\n",
      "  [158  64   4]\n",
      "  ...\n",
      "  [183 186 200]\n",
      "  [180 183 200]\n",
      "  [167 172 181]]]\n"
     ]
    }
   ],
   "source": [
    "print(img)"
   ]
  },
  {
   "cell_type": "code",
   "execution_count": 3,
   "id": "c4857479-65bb-4d02-a556-32cc0c081c0d",
   "metadata": {},
   "outputs": [
    {
     "name": "stdout",
     "output_type": "stream",
     "text": [
      "(500, 500, 3)\n"
     ]
    }
   ],
   "source": [
    "import cv2 \n",
    "import numpy as np\n",
    "\n",
    "img = cv2.imread(\"WhatsApp Image 2024-08-30 at 10.03.11 PM.jpeg\")\n",
    "img = cv2.resize(img , (500,500))\n",
    "\n",
    "print(img.shape)\n",
    "new = np.zeros((500 ,500 ,3) , np.uint8)*255\n",
    "\n",
    "\n",
    "\n",
    "cv2.imshow(\"org\", img)\n",
    "cv2.imshow(\"new\",new )\n",
    "cv2.waitKey(0)\n",
    "cv2.destroyAllWindows()\n"
   ]
  },
  {
   "cell_type": "code",
   "execution_count": null,
   "id": "54ee1d47-c403-4a96-b13c-6b6c92cf45c7",
   "metadata": {},
   "outputs": [],
   "source": []
  },
  {
   "cell_type": "markdown",
   "id": "c07c8f03-1481-4d02-87a4-66be9554fd52",
   "metadata": {},
   "source": [
    "# ColorPicker"
   ]
  },
  {
   "cell_type": "code",
   "execution_count": 4,
   "id": "6ef93146-a3be-4e35-9124-e2f5b5bcc75d",
   "metadata": {},
   "outputs": [
    {
     "name": "stdout",
     "output_type": "stream",
     "text": [
      "BGR Color at (161, 0): [138 161 212]\n"
     ]
    }
   ],
   "source": [
    "import cv2\n",
    "import numpy as np\n",
    "\n",
    "# Load and resize the image\n",
    "img = cv2.imread(\"WhatsApp Image 2024-08-30 at 10.03.11 PM.jpeg\")\n",
    "img = cv2.resize(img, (500, 500))\n",
    "\n",
    "# Create a black image to display the selected color\n",
    "new = np.zeros((500, 500, 3), np.uint8)\n",
    "\n",
    "# Mouse click event to capture the color\n",
    "def pick_color(event, x, y, flags, param):\n",
    "    if event == cv2.EVENT_LBUTTONDOWN:  # On left mouse click\n",
    "        # Get the color at the clicked pixel\n",
    "        color_bgr = img[y, x]\n",
    "        # Fill the 'new' image with the selected color\n",
    "        new[:] = color_bgr\n",
    "        # Display the selected color in the \"new\" window\n",
    "        cv2.imshow(\"new\", new)\n",
    "        print(f\"BGR Color at ({x}, {y}): {color_bgr}\")\n",
    "\n",
    "# Show the original image\n",
    "cv2.imshow(\"org\", img)\n",
    "\n",
    "# Set the mouse callback to capture the color on click\n",
    "cv2.setMouseCallback(\"org\", pick_color)\n",
    "\n",
    "# Keep the windows open until 'Esc' is pressed\n",
    "while True:\n",
    "    if cv2.waitKey(1) & 0xFF == 27:  # Press 'Esc' to exit\n",
    "        break\n",
    "\n",
    "cv2.destroyAllWindows()\n"
   ]
  },
  {
   "cell_type": "code",
   "execution_count": 5,
   "id": "87400a57-5278-4e47-ab1e-475ff61f12ef",
   "metadata": {},
   "outputs": [],
   "source": [
    "import cv2\n",
    "import numpy as np\n",
    "\n",
    "# Load and resize the image\n",
    "img = cv2.imread(\"WhatsApp Image 2024-08-30 at 10.03.11 PM.jpeg\")\n",
    "img = cv2.resize(img, (500, 500))\n",
    "\n",
    "# Create a blank black image where the color will be displayed\n",
    "new = np.zeros((500, 500, 3), np.uint8)\n",
    "\n",
    "# Callback function for trackbar (does nothing here but is required)\n",
    "def nothing(x):\n",
    "    pass\n",
    "\n",
    "# Create a window\n",
    "cv2.namedWindow('new')\n",
    "\n",
    "# Create trackbars for color change\n",
    "cv2.createTrackbar('R', 'new', 0, 255, nothing)\n",
    "cv2.createTrackbar('G', 'new', 0, 255, nothing)\n",
    "cv2.createTrackbar('B', 'new', 0, 255, nothing)\n",
    "\n",
    "# Loop to update the image color based on trackbar position\n",
    "while True:\n",
    "    # Get the current positions of the trackbars\n",
    "    r = cv2.getTrackbarPos('R', 'new')\n",
    "    g = cv2.getTrackbarPos('G', 'new')\n",
    "    b = cv2.getTrackbarPos('B', 'new')\n",
    "\n",
    "    # Update the new image with the selected color\n",
    "    new[:] = [b, g, r]  # BGR format\n",
    "\n",
    "    # Display the original and modified images\n",
    "    cv2.imshow(\"org\", img)\n",
    "    cv2.imshow(\"new\", new)\n",
    "\n",
    "    # Break the loop when 'Esc' key is pressed\n",
    "    if cv2.waitKey(1) & 0xFF == 27:\n",
    "        break\n",
    "\n",
    "cv2.destroyAllWindows()\n"
   ]
  },
  {
   "cell_type": "code",
   "execution_count": null,
   "id": "f98c4c3e-39ab-4927-9742-c21028943366",
   "metadata": {},
   "outputs": [],
   "source": []
  },
  {
   "cell_type": "markdown",
   "id": "1b6907dd-a53a-496b-bce9-cbdc663d6bfd",
   "metadata": {},
   "source": [
    "# getTrackbarPos() function in opencv"
   ]
  },
  {
   "cell_type": "code",
   "execution_count": 6,
   "id": "564d03cd-77b1-4e4c-a6e2-3e980e1f3d9f",
   "metadata": {},
   "outputs": [],
   "source": [
    "import cv2\n",
    "import numpy as np\n",
    "\n",
    "# Callback function for the trackbar (does nothing but is required)\n",
    "def nothing(x):\n",
    "    pass\n",
    "\n",
    "# Create a black image\n",
    "img = np.zeros((300, 512, 3), np.uint8)\n",
    "\n",
    "# Create a window\n",
    "cv2.namedWindow('image')\n",
    "\n",
    "# Create trackbars for color change\n",
    "cv2.createTrackbar('R', 'image', 0, 255, nothing)\n",
    "cv2.createTrackbar('G', 'image', 0, 255, nothing)\n",
    "cv2.createTrackbar('B', 'image', 0, 255, nothing)\n",
    "\n",
    "# Infinite loop to update the image based on trackbar position\n",
    "while True:\n",
    "    # Get the current positions of the trackbars\n",
    "    r = cv2.getTrackbarPos('R', 'image')\n",
    "    g = cv2.getTrackbarPos('G', 'image')\n",
    "    b = cv2.getTrackbarPos('B', 'image')\n",
    "\n",
    "    # Update the image color based on the trackbar positions\n",
    "    img[:] = [b, g, r]  # Set the entire image to the selected color\n",
    "\n",
    "    # Display the image\n",
    "    cv2.imshow('image', img)\n",
    "\n",
    "    # Break the loop when the 'Esc' key is pressed\n",
    "    if cv2.waitKey(1) & 0xFF == 27:  # 'Esc' key\n",
    "        break\n",
    "\n",
    "# Clean up and close the window\n",
    "cv2.destroyAllWindows()\n"
   ]
  },
  {
   "cell_type": "code",
   "execution_count": null,
   "id": "46fb9255-12c7-4a31-b8eb-44f212270ca6",
   "metadata": {},
   "outputs": [],
   "source": []
  },
  {
   "cell_type": "code",
   "execution_count": null,
   "id": "e8a1ce2c-f88c-4744-ae19-90db0ce1667f",
   "metadata": {},
   "outputs": [],
   "source": []
  }
 ],
 "metadata": {
  "kernelspec": {
   "display_name": "Python 3 (ipykernel)",
   "language": "python",
   "name": "python3"
  },
  "language_info": {
   "codemirror_mode": {
    "name": "ipython",
    "version": 3
   },
   "file_extension": ".py",
   "mimetype": "text/x-python",
   "name": "python",
   "nbconvert_exporter": "python",
   "pygments_lexer": "ipython3",
   "version": "3.8.19"
  }
 },
 "nbformat": 4,
 "nbformat_minor": 5
}

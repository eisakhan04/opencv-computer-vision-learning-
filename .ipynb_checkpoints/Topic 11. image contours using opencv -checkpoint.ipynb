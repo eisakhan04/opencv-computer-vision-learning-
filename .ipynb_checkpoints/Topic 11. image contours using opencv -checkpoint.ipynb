{
 "cells": [
  {
   "cell_type": "markdown",
   "id": "2b0abcaf-1ed8-406d-ac61-8f50e3fea223",
   "metadata": {},
   "source": [
    "# image contours using opencv "
   ]
  },
  {
   "cell_type": "code",
   "execution_count": 6,
   "id": "0122694e-7cef-4d8a-b212-aace6ba3412f",
   "metadata": {},
   "outputs": [],
   "source": [
    "import cv2\n",
    "import numpy as np\n",
    "\n",
    "# Load the image\n",
    "image = cv2.imread('eisa.jpeg')\n",
    "image = cv2.resize(image , (500,500))\n",
    "gray = cv2.cvtColor(image, cv2.COLOR_BGR2GRAY)  # Convert to grayscale\n",
    "\n",
    "# Apply thresholding to binarize the image\n",
    "_, thresholded = cv2.threshold(gray, 127, 255, cv2.THRESH_BINARY)\n",
    "\n",
    "# Find contours\n",
    "contours, hierarchy = cv2.findContours(thresholded, cv2.RETR_EXTERNAL, cv2.CHAIN_APPROX_SIMPLE)\n",
    "\n",
    "# Draw contours on the original image\n",
    "cv2.drawContours(image, contours, -1, (0, 255, 0), 2)  # Green contours\n",
    "\n",
    "# Display the original image with contours\n",
    "cv2.imshow(\"Contours\", image)\n",
    "cv2.waitKey(0)\n",
    "cv2.destroyAllWindows()\n"
   ]
  },
  {
   "cell_type": "code",
   "execution_count": null,
   "id": "ad0f7a26-815c-423a-b31d-1191c15635a8",
   "metadata": {},
   "outputs": [],
   "source": []
  },
  {
   "cell_type": "markdown",
   "id": "48bae9bc-888f-4f1e-afe6-ffcea926c16e",
   "metadata": {},
   "source": [
    "# Contour Moments And Convex Hull Using Open cv "
   ]
  },
  {
   "cell_type": "code",
   "execution_count": 10,
   "id": "9acf4cd0-2f45-4aa3-842d-8391a4a2ac37",
   "metadata": {},
   "outputs": [],
   "source": [
    "import cv2"
   ]
  },
  {
   "cell_type": "code",
   "execution_count": 20,
   "id": "f265dc4a-04c7-4acc-9528-153ce357c071",
   "metadata": {},
   "outputs": [
    {
     "ename": "ZeroDivisionError",
     "evalue": "float division by zero",
     "output_type": "error",
     "traceback": [
      "\u001b[1;31m---------------------------------------------------------------------------\u001b[0m",
      "\u001b[1;31mZeroDivisionError\u001b[0m                         Traceback (most recent call last)",
      "Cell \u001b[1;32mIn[20], line 13\u001b[0m\n\u001b[0;32m     11\u001b[0m \u001b[38;5;28;01mfor\u001b[39;00m c \u001b[38;5;129;01min\u001b[39;00m cnt:\n\u001b[0;32m     12\u001b[0m     m \u001b[38;5;241m=\u001b[39m cv2\u001b[38;5;241m.\u001b[39mmoments(c)\n\u001b[1;32m---> 13\u001b[0m     x \u001b[38;5;241m=\u001b[39m \u001b[38;5;28mint\u001b[39m(\u001b[43mm\u001b[49m\u001b[43m[\u001b[49m\u001b[38;5;124;43m\"\u001b[39;49m\u001b[38;5;124;43mm10\u001b[39;49m\u001b[38;5;124;43m\"\u001b[39;49m\u001b[43m]\u001b[49m\u001b[38;5;241;43m/\u001b[39;49m\u001b[43mm\u001b[49m\u001b[43m[\u001b[49m\u001b[38;5;124;43m\"\u001b[39;49m\u001b[38;5;124;43mm00\u001b[39;49m\u001b[38;5;124;43m\"\u001b[39;49m\u001b[43m]\u001b[49m)\n\u001b[0;32m     14\u001b[0m     y \u001b[38;5;241m=\u001b[39m \u001b[38;5;28mint\u001b[39m(m[\u001b[38;5;124m\"\u001b[39m\u001b[38;5;124mm01\u001b[39m\u001b[38;5;124m\"\u001b[39m]\u001b[38;5;241m/\u001b[39mm[\u001b[38;5;124m\"\u001b[39m\u001b[38;5;124mm00\u001b[39m\u001b[38;5;124m\"\u001b[39m])\n\u001b[0;32m     15\u001b[0m     cv2\u001b[38;5;241m.\u001b[39mdrawContours(img , cnt , \u001b[38;5;241m-\u001b[39m\u001b[38;5;241m1\u001b[39m , (\u001b[38;5;241m0\u001b[39m,\u001b[38;5;241m0\u001b[39m,\u001b[38;5;241m255\u001b[39m) , \u001b[38;5;241m4\u001b[39m)\n",
      "\u001b[1;31mZeroDivisionError\u001b[0m: float division by zero"
     ]
    }
   ],
   "source": [
    "img = cv2.imread(\"eisa.jpeg\")\n",
    "\n",
    "gry = cv2.cvtColor(img , cv2.COLOR_BGR2GRAY)\n",
    "\n",
    "_ , thr = cv2.threshold(gry , 230,255, cv2.THRESH_BINARY)\n",
    "\n",
    "cnt , hir = cv2.findContours(thr , cv2.RETR_TREE , cv2.CHAIN_APPROX_SIMPLE)\n",
    "\n",
    "\n",
    "ar = []\n",
    "for c in cnt:\n",
    "    m = cv2.moments(c)\n",
    "    x = int(m[\"m10\"]/m[\"m00\"])\n",
    "    y = int(m[\"m01\"]/m[\"m00\"])\n",
    "    cv2.drawContours(img , cnt , -1 , (0,0,255) , 4)\n",
    "    cv2.circle(img , (x,y),2, (255,0,0) ,-1 )\n",
    "    a = cv2.contourArea(c)\n",
    "    ar.append(a)\n",
    "\n",
    "\n",
    "\n",
    "\n",
    "print(ar)\n",
    "cv2.imshow(\"threshold\" , thr)\n",
    "cv2.imshow(\"eisa\" , img)\n",
    "cv2.waitKey(0)\n",
    "cv2.destroyAllWindows()"
   ]
  },
  {
   "cell_type": "code",
   "execution_count": null,
   "id": "66e62a19-87c0-44ca-bb8e-08bcf54ba56f",
   "metadata": {},
   "outputs": [],
   "source": []
  },
  {
   "cell_type": "code",
   "execution_count": null,
   "id": "811247bf-dff9-4c67-9479-03d891b6f5c8",
   "metadata": {},
   "outputs": [],
   "source": []
  },
  {
   "cell_type": "code",
   "execution_count": null,
   "id": "3186f6de-f58e-4f29-9afc-0c68591432f2",
   "metadata": {},
   "outputs": [],
   "source": []
  },
  {
   "cell_type": "code",
   "execution_count": null,
   "id": "874fd5a1-ceda-4488-a901-ceb65597fce4",
   "metadata": {},
   "outputs": [],
   "source": []
  }
 ],
 "metadata": {
  "kernelspec": {
   "display_name": "Python 3 (ipykernel)",
   "language": "python",
   "name": "python3"
  },
  "language_info": {
   "codemirror_mode": {
    "name": "ipython",
    "version": 3
   },
   "file_extension": ".py",
   "mimetype": "text/x-python",
   "name": "python",
   "nbconvert_exporter": "python",
   "pygments_lexer": "ipython3",
   "version": "3.8.19"
  }
 },
 "nbformat": 4,
 "nbformat_minor": 5
}

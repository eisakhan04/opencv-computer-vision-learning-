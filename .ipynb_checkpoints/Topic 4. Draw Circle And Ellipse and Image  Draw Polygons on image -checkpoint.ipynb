{
 "cells": [
  {
   "cell_type": "markdown",
   "id": "9b3c014c-8102-401d-aac9-fa6f109e127d",
   "metadata": {},
   "source": [
    "# Draw Circle And Ellipse on Image"
   ]
  },
  {
   "cell_type": "code",
   "execution_count": 6,
   "id": "e8e53bb9-6a16-4b04-abb8-232e70bc7a28",
   "metadata": {},
   "outputs": [],
   "source": [
    "import cv2"
   ]
  },
  {
   "cell_type": "markdown",
   "id": "6706934c-74e7-4ab8-a5b1-9be3310bdd1e",
   "metadata": {},
   "source": [
    "# Circle"
   ]
  },
  {
   "cell_type": "code",
   "execution_count": 5,
   "id": "aab27542-8272-46fb-8c43-2599b1f6b9ed",
   "metadata": {},
   "outputs": [],
   "source": [
    "old_img = cv2.imread(\"WhatsApp Image 2024-08-30 at 10.03.11 PM.jpeg\")\n",
    "old_img = cv2.resize(old_img, (600, 500))\n",
    "\n",
    "new_img = cv2.circle(img=old_img, center=(330, 150), radius=80, color=(0, 255,0), thickness=2, lineType=16)\n",
    "\n",
    "cv2.imshow(\"Draw Circle\", old_img)\n",
    "cv2.waitKey(0)\n",
    "cv2.destroyAllWindows()\n"
   ]
  },
  {
   "cell_type": "markdown",
   "id": "b9507526-3a11-4154-a10a-1f08d5ad4247",
   "metadata": {},
   "source": [
    "# Elipse"
   ]
  },
  {
   "cell_type": "code",
   "execution_count": 4,
   "id": "8d0f1723-40a6-4299-90a1-faa54e8ec1f8",
   "metadata": {},
   "outputs": [],
   "source": [
    "old_img = cv2.imread(\"WhatsApp Image 2024-08-30 at 10.03.11 PM.jpeg\")\n",
    "old_img = cv2.resize(old_img, (600, 500))\n",
    "\n",
    "txt = cv2.putText(img=old_img, text=\"Eisa Baloch\", org=(380,160), fontFace=2, fontScale=1, color=(0, 255, 0) , thickness=2, lineType=16, bottomLeftOrigin=False)\n",
    "\n",
    "new_img = cv2.ellipse(img=txt, center=(330, 150),axes=(60, 80), angle=(20), startAngle=0, endAngle=330, color=(0, 255, 0),  thickness=4, lineType=16)\n",
    "\n",
    "\n",
    "cv2.imshow(\"Draw Circle\", old_img)\n",
    "\n",
    "cv2.waitKey(0)\n",
    "cv2.destroyAllWindows()\n"
   ]
  },
  {
   "cell_type": "code",
   "execution_count": null,
   "id": "d6b4abda-0aa1-455a-ad24-84cfae66993f",
   "metadata": {},
   "outputs": [],
   "source": [
    "cv2.ellipse()"
   ]
  },
  {
   "cell_type": "code",
   "execution_count": null,
   "id": "13bd8799-1162-4baf-911a-54eba36c1bf0",
   "metadata": {},
   "outputs": [],
   "source": []
  },
  {
   "cell_type": "markdown",
   "id": "b8302ebf-e003-4ced-ac2e-7a48ec180e35",
   "metadata": {},
   "source": [
    "# Draw Polygons on image "
   ]
  },
  {
   "cell_type": "code",
   "execution_count": 1,
   "id": "d94b6227-48d9-4811-93d7-97c25694295e",
   "metadata": {},
   "outputs": [],
   "source": [
    "import numpy as np \n",
    "import cv2"
   ]
  },
  {
   "cell_type": "code",
   "execution_count": 7,
   "id": "7fde55d1-80d9-4887-a967-0a813c4a9e1c",
   "metadata": {},
   "outputs": [],
   "source": [
    "old_img = cv2.imread(\"images (7).jpg\")\n",
    "old_img = cv2.resize(old_img , (400 , 600))\n",
    "\n",
    "new_img  = cv2.polylines(img=old_img, \n",
    "                         pts=[np.array(([[100,200] , [150 , 100] , [300 , 200] , [300 , 500] ,[100,500]]))],\n",
    "                         isClosed= True, color=(0 ,255 ,0), thickness=4, lineType=16)\n",
    "\n",
    "cv2.imshow(\"Draw Polygons on image\", new_img)\n",
    "cv2.waitKey(0)\n",
    "cv2.destroyAllWindows()\n",
    "# cv2.destroyAllWindow()"
   ]
  },
  {
   "cell_type": "code",
   "execution_count": null,
   "id": "6583b78f-c38a-4d2a-855c-f3904d90d7a1",
   "metadata": {},
   "outputs": [],
   "source": []
  },
  {
   "cell_type": "code",
   "execution_count": null,
   "id": "8f1c509a-6729-4792-b5a8-11ef0051c7e7",
   "metadata": {},
   "outputs": [],
   "source": []
  }
 ],
 "metadata": {
  "kernelspec": {
   "display_name": "Python 3 (ipykernel)",
   "language": "python",
   "name": "python3"
  },
  "language_info": {
   "codemirror_mode": {
    "name": "ipython",
    "version": 3
   },
   "file_extension": ".py",
   "mimetype": "text/x-python",
   "name": "python",
   "nbconvert_exporter": "python",
   "pygments_lexer": "ipython3",
   "version": "3.8.19"
  }
 },
 "nbformat": 4,
 "nbformat_minor": 5
}

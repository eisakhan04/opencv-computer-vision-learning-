{
 "cells": [
  {
   "cell_type": "markdown",
   "id": "2d0fd612-b47c-4729-a3dd-94595c47f8c7",
   "metadata": {},
   "source": [
    "# Read Image OpenCV \n"
   ]
  },
  {
   "cell_type": "markdown",
   "id": "665998b0-60bb-442e-9b54-58f701d2ff6c",
   "metadata": {},
   "source": [
    "\n",
    "# Synatx : cv2.imread (path , flag)\n",
    "\n",
    "* Parameters:\n",
    "path : image path \n",
    "flag : defalut value is cv2.IMREAD_COLOR \n",
    "\n",
    "# cv2.IMREAD_COLOR or 1:\n",
    "read the image with RGB color \n",
    "# cv2.IMREAD_GRAYSCALE or 0\n",
    "read the image with gray colors\n",
    "# cv2.IMREAD_UNCHANGED or -1:\n",
    "its read the image as  is from the source. if the source is an RGB , it loads the image into array with Red , Green and Blue channels. if the source image is ARGB , it loads the image with three color component along with alpha or transparency channel."
   ]
  },
  {
   "cell_type": "code",
   "execution_count": 2,
   "id": "f599c92f-14b6-4787-a21e-8df758245c71",
   "metadata": {},
   "outputs": [],
   "source": [
    "import cv2"
   ]
  },
  {
   "cell_type": "code",
   "execution_count": 4,
   "id": "ff1f5e49-f249-4c5d-8db1-7ca9cbb87c04",
   "metadata": {},
   "outputs": [
    {
     "name": "stdout",
     "output_type": "stream",
     "text": [
      "[[[ 47 158  72]\n",
      "  [ 37 148  64]\n",
      "  [ 34 144  62]\n",
      "  ...\n",
      "  [ 81 179 113]\n",
      "  [ 87 188 120]\n",
      "  [ 80 184 113]]\n",
      "\n",
      " [[ 42 153  67]\n",
      "  [ 45 156  72]\n",
      "  [ 46 154  72]\n",
      "  ...\n",
      "  [ 88 186 120]\n",
      "  [ 87 189 118]\n",
      "  [ 80 185 112]]\n",
      "\n",
      " [[ 34 147  60]\n",
      "  [ 45 156  72]\n",
      "  [ 54 159  78]\n",
      "  ...\n",
      "  [ 80 182 111]\n",
      "  [ 81 181 109]\n",
      "  [ 73 176 101]]\n",
      "\n",
      " ...\n",
      "\n",
      " [[  0  45  37]\n",
      "  [  0  43  35]\n",
      "  [  0  44  35]\n",
      "  ...\n",
      "  [ 12  15  19]\n",
      "  [ 10  13  17]\n",
      "  [  6  11  14]]\n",
      "\n",
      " [[  0  47  39]\n",
      "  [  7  54  46]\n",
      "  [  7  57  47]\n",
      "  ...\n",
      "  [ 11  15  16]\n",
      "  [ 10  14  15]\n",
      "  [  9  13  14]]\n",
      "\n",
      " [[  2  49  41]\n",
      "  [ 16  65  57]\n",
      "  [ 14  64  54]\n",
      "  ...\n",
      "  [ 13  15  16]\n",
      "  [ 12  16  17]\n",
      "  [ 12  16  17]]]\n",
      "(4000, 6000, 3)\n"
     ]
    }
   ],
   "source": [
    "img = cv2.imread(\"pexels-pixabay-460621.jpg\")\n",
    "print(img) #BGR (0-255, 0-255 , 0-255)\n",
    "print(img.shape)"
   ]
  },
  {
   "cell_type": "markdown",
   "id": "de904c3b-ab80-4cfa-b58c-f386e5835344",
   "metadata": {},
   "source": [
    "# Text Over in image "
   ]
  },
  {
   "cell_type": "code",
   "execution_count": 28,
   "id": "3b03d0e2-8670-4fde-91e1-e4789ce6e8b2",
   "metadata": {},
   "outputs": [],
   "source": [
    "img = cv2.imread(\"WhatsApp Image 2024-08-30 at 10.03.11 PM.jpeg\")\n",
    "re_img = cv2.resize(img , (600 , 500))\n",
    "\n",
    "\n",
    "txt = cv2.putText( img= re_img,\n",
    "                   text=\"Eisa khan\",\n",
    "                   org = (60 ,80),\n",
    "                   fontFace = cv2.FONT_HERSHEY_DUPLEX,\n",
    "                   fontScale = 4,\n",
    "                   color =(0 ,0 , 255),\n",
    "                   thickness =4,\n",
    "                   lineType = cv2.LINE_8,\n",
    "                   bottomLeftOrigin = False )\n",
    "\n",
    "cv2.imshow(\"coder\" , re_img)\n",
    "cv2.waitKey(0)\n",
    "cv2.destroyAllWindows() "
   ]
  },
  {
   "cell_type": "code",
   "execution_count": null,
   "id": "2936d7e8-acbb-4844-a4b7-e4b421e7d8d7",
   "metadata": {},
   "outputs": [],
   "source": [
    "img, text, org, fontFace, fontScale, color[, thickness[, lineType[, bottomLeftOrigin]]"
   ]
  },
  {
   "cell_type": "code",
   "execution_count": null,
   "id": "8f8be73d-1d47-4fd6-8a33-17327957b8f6",
   "metadata": {},
   "outputs": [],
   "source": []
  },
  {
   "cell_type": "markdown",
   "id": "cba96df2-b6ea-463c-9291-ec4f221ff2c7",
   "metadata": {},
   "source": [
    "# Draw Line and Rectangle on Image "
   ]
  },
  {
   "cell_type": "code",
   "execution_count": 31,
   "id": "2178a235-ce7a-4d5e-9d76-086329542bb6",
   "metadata": {},
   "outputs": [],
   "source": [
    "import cv2"
   ]
  },
  {
   "cell_type": "code",
   "execution_count": 57,
   "id": "3743d40f-bc48-4ed2-9109-ebaa688c175d",
   "metadata": {},
   "outputs": [],
   "source": [
    "old_img = cv2.imread(\"images (7).jpg\")\n",
    "old_img = cv2.resize(old_img , (400 , 600))\n",
    "\n",
    "new_img = cv2.line(img = old_img , pt1 =(150,130) , pt2 =(300 , 130) , color =(0,255,0) , thickness =4 , lineType =4  )\n",
    "\n",
    "cv2.imshow(\"Draw Line \" ,new_img)\n",
    "cv2.waitKey(0)\n",
    "cv2.destroyAllWindows()\n"
   ]
  },
  {
   "cell_type": "code",
   "execution_count": 93,
   "id": "ae6756d6-d1e8-4b7d-8691-4f6f38f87bb8",
   "metadata": {},
   "outputs": [],
   "source": [
    "old_img = cv2.imread(\"images (7).jpg\")\n",
    "old_img = cv2.resize(old_img , (400 , 600))\n",
    "\n",
    "txt = cv2.putText(img=old_img, text=\"Bollywood\", org=(100,60), fontFace=2, fontScale=1, color=(0,0,255) , thickness=4, lineType=16, bottomLeftOrigin=False)\n",
    "new_img = cv2.rectangle(img = txt , pt1 =(110,100) , pt2 =(320 , 350) , color =(0,255,0) , thickness =4 , lineType =16  )\n",
    "\n",
    "cv2.imshow(\"Draw Line \" ,new_img)\n",
    "cv2.waitKey(0)\n",
    "cv2.destroyAllWindows()\n"
   ]
  },
  {
   "cell_type": "code",
   "execution_count": null,
   "id": "449933bb-49d4-4213-b8f1-506955c2aa61",
   "metadata": {},
   "outputs": [],
   "source": []
  },
  {
   "cell_type": "code",
   "execution_count": null,
   "id": "268527da-75d7-4ed8-83e9-2408035e6d56",
   "metadata": {},
   "outputs": [],
   "source": []
  }
 ],
 "metadata": {
  "kernelspec": {
   "display_name": "Python 3 (ipykernel)",
   "language": "python",
   "name": "python3"
  },
  "language_info": {
   "codemirror_mode": {
    "name": "ipython",
    "version": 3
   },
   "file_extension": ".py",
   "mimetype": "text/x-python",
   "name": "python",
   "nbconvert_exporter": "python",
   "pygments_lexer": "ipython3",
   "version": "3.8.19"
  }
 },
 "nbformat": 4,
 "nbformat_minor": 5
}

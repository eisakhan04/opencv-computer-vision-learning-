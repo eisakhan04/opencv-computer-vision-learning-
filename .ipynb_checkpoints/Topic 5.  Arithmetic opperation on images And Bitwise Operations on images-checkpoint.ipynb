{
 "cells": [
  {
   "cell_type": "markdown",
   "id": "3c0d9428-fe6c-441a-b64d-851f6193be0e",
   "metadata": {},
   "source": [
    "# Add Two image "
   ]
  },
  {
   "cell_type": "code",
   "execution_count": 9,
   "id": "0eb5a051-2656-4535-a052-8fde77bfa737",
   "metadata": {},
   "outputs": [],
   "source": [
    "import cv2\n",
    "import numpy as np"
   ]
  },
  {
   "cell_type": "code",
   "execution_count": 7,
   "id": "f6f0a386-eef5-42d0-9a7f-783cc5f497c9",
   "metadata": {},
   "outputs": [],
   "source": [
    "img1 = cv2.imread(\"WhatsApp Image 2024-08-30 at 10.03.11 PM.jpeg\")\n",
    "img2 = cv2.imread(\"images (7).jpg\")\n",
    "\n",
    "img1 = cv2.resize(img1 , (500 ,500))\n",
    "img2 = cv2.resize(img2 , (500 ,500))\n",
    "\n",
    "new_img = cv2.addWeighted(img1 , 0.5 , img2 , 1, 2)\n",
    "\n",
    "cv2.imshow(\"Add Two img\" ,new_img)\n",
    "cv2.waitKey(0)\n",
    "cv2.destroyAllWindows()"
   ]
  },
  {
   "cell_type": "code",
   "execution_count": 8,
   "id": "e2d01660-2e45-4655-b417-677577b1a561",
   "metadata": {},
   "outputs": [],
   "source": [
    "img1 = cv2.imread(\"WhatsApp Image 2024-08-30 at 10.03.11 PM.jpeg\")\n",
    "img2 = cv2.imread(\"images (7).jpg\")\n",
    "\n",
    "img1 = cv2.resize(img1 , (500 ,500))\n",
    "img2 = cv2.resize(img2 , (500 ,500))\n",
    "\n",
    "new_img = cv2.subtract(img1 , img2 )\n",
    "\n",
    "cv2.imshow(\"Add Two img\" ,new_img)\n",
    "cv2.waitKey(0)\n",
    "cv2.destroyAllWindows()"
   ]
  },
  {
   "cell_type": "markdown",
   "id": "bf9b310f-9626-4b57-92f9-6ec65732a200",
   "metadata": {},
   "source": [
    "# Bitwise Operations on images \n",
    "* And operator \n",
    "* OR operator\n",
    "* NOT operator\n",
    "* EXOR operator"
   ]
  },
  {
   "cell_type": "code",
   "execution_count": 12,
   "id": "51784378-694a-40f7-87be-2493a7ef42a7",
   "metadata": {},
   "outputs": [],
   "source": [
    "img1 = cv2.imread(\"WhatsApp Image 2024-08-30 at 10.03.11 PM.jpeg\")\n",
    "img2 = cv2.imread(\"images (7).jpg\")\n",
    "\n",
    "img1 = cv2.resize(img1 , (500 ,500))\n",
    "img2 = cv2.resize(img2 , (500 ,500))\n",
    "\n",
    "new_img = cv2.bitwise_and(img1 , img2 )\n",
    "\n",
    "h = np.hstack((img1 , img2 , new_img))\n",
    "\n",
    "cv2.imshow(\"Add Two img\" ,h)\n",
    "cv2.waitKey(0)\n",
    "cv2.destroyAllWindows()"
   ]
  },
  {
   "cell_type": "code",
   "execution_count": 14,
   "id": "ff93dbfc-1f5e-4165-82b7-d26dd4617d67",
   "metadata": {},
   "outputs": [],
   "source": [
    "img1 = cv2.imread(\"WhatsApp Image 2024-08-30 at 10.03.11 PM.jpeg\")\n",
    "img2 = cv2.imread(\"images (7).jpg\")\n",
    "\n",
    "img1 = cv2.resize(img1 , (500 ,500))\n",
    "img2 = cv2.resize(img2 , (500 ,500))\n",
    "\n",
    "new_img = cv2.bitwise_or(img1 , img2 )\n",
    "\n",
    "h = np.hstack((img1 , img2 , new_img))\n",
    "\n",
    "cv2.imshow(\"Add Two img\" ,h)\n",
    "cv2.waitKey(0)\n",
    "cv2.destroyAllWindows()"
   ]
  },
  {
   "cell_type": "code",
   "execution_count": 17,
   "id": "6e5255f3-b198-4e45-b188-2291afd6056d",
   "metadata": {},
   "outputs": [],
   "source": [
    "img1 = cv2.imread(\"WhatsApp Image 2024-08-30 at 10.03.11 PM.jpeg\")\n",
    "img2 = cv2.imread(\"images (7).jpg\")\n",
    "\n",
    "img1 = cv2.resize(img1 , (500 ,500))\n",
    "img2 = cv2.resize(img2 , (500 ,500))\n",
    "\n",
    "new_img = cv2.bitwise_not(img1 , img2 )\n",
    "\n",
    "h = np.hstack((img1 , img2 , new_img))\n",
    "\n",
    "cv2.imshow(\"Add Two img\" ,h)\n",
    "cv2.waitKey(0)\n",
    "cv2.destroyAllWindows()"
   ]
  },
  {
   "cell_type": "code",
   "execution_count": 16,
   "id": "848caae2-3b0e-4646-8394-d93d6ee6486e",
   "metadata": {},
   "outputs": [],
   "source": [
    "img1 = cv2.imread(\"WhatsApp Image 2024-08-30 at 10.03.11 PM.jpeg\")\n",
    "img2 = cv2.imread(\"images (7).jpg\")\n",
    "\n",
    "img1 = cv2.resize(img1 , (500 ,500))\n",
    "img2 = cv2.resize(img2 , (500 ,500))\n",
    "\n",
    "new_img = cv2.bitwise_xor(img1 , img2 )\n",
    "\n",
    "h = np.hstack((img1 , img2 , new_img))\n",
    "\n",
    "cv2.imshow(\"Add Two img\" ,h)\n",
    "cv2.waitKey(0)\n",
    "cv2.destroyAllWindows()"
   ]
  },
  {
   "cell_type": "code",
   "execution_count": null,
   "id": "ef146777-68ac-4410-aa46-98e5737b9765",
   "metadata": {},
   "outputs": [],
   "source": []
  }
 ],
 "metadata": {
  "kernelspec": {
   "display_name": "Python 3 (ipykernel)",
   "language": "python",
   "name": "python3"
  },
  "language_info": {
   "codemirror_mode": {
    "name": "ipython",
    "version": 3
   },
   "file_extension": ".py",
   "mimetype": "text/x-python",
   "name": "python",
   "nbconvert_exporter": "python",
   "pygments_lexer": "ipython3",
   "version": "3.8.19"
  }
 },
 "nbformat": 4,
 "nbformat_minor": 5
}

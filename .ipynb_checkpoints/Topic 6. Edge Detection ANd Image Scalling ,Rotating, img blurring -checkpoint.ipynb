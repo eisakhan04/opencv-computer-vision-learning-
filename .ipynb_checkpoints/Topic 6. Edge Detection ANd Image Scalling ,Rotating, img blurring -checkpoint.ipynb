{
 "cells": [
  {
   "cell_type": "markdown",
   "id": "077c3b2e-037e-492a-8bab-d4d869568f47",
   "metadata": {},
   "source": [
    "# Edge Detection "
   ]
  },
  {
   "cell_type": "code",
   "execution_count": 14,
   "id": "f887a34d-2d60-4d1c-87f0-c17d235379c9",
   "metadata": {},
   "outputs": [],
   "source": [
    "import cv2\n",
    "import numpy as np "
   ]
  },
  {
   "cell_type": "code",
   "execution_count": 11,
   "id": "7168a079-7ffb-4253-b0a5-40cf2603b138",
   "metadata": {},
   "outputs": [
    {
     "name": "stdout",
     "output_type": "stream",
     "text": [
      "(500, 500, 3)\n",
      "(500, 500)\n"
     ]
    }
   ],
   "source": [
    "img1 = cv2.imread(\"WhatsApp Image 2024-08-30 at 10.03.11 PM.jpeg\")\n",
    "img1 = cv2.resize(img1 , (500 ,500))\n",
    "print(img1.shape)\n",
    "\n",
    "new_img = cv2.Canny(img1 , 200,200 , apertureSize=5)\n",
    "print(new_img.shape)\n",
    "\n",
    "\n",
    "cv2.imshow(\"Edge Detection\" , new_img)\n",
    "cv2.imshow(\"Edge Detections\" ,img1)\n",
    "cv2.waitKey(0)\n",
    "cv2.destroyAllWindows()"
   ]
  },
  {
   "cell_type": "markdown",
   "id": "2db9e3fd-68b2-4bfb-a9df-c84450f2cec1",
   "metadata": {},
   "source": [
    "# Image Scalling ,Rotating"
   ]
  },
  {
   "cell_type": "code",
   "execution_count": 18,
   "id": "ed9634f5-d23b-437b-b14c-508a5c3efa86",
   "metadata": {},
   "outputs": [],
   "source": [
    "img1 = cv2.imread(\"WhatsApp Image 2024-08-30 at 10.03.11 PM.jpeg\")\n",
    "img1 = cv2.resize(img1 , (500 ,500))\n",
    "w , h = img1.shape[0],img1.shape[1]\n",
    "\n",
    "\n",
    "m = cv2.getRotationMatrix2D((w/2,h/2),80 ,1)\n",
    "new_img = cv2.warpAffine(img1 , m , (w,h))\n",
    "\n",
    "h = np.hstack((img1 ,new_img ))\n",
    "cv2.imshow(\"Image Scalling ,Rotating \" , h)\n",
    "\n",
    "cv2.waitKey(0)\n",
    "cv2.destroyAllWindows()"
   ]
  },
  {
   "cell_type": "code",
   "execution_count": null,
   "id": "8aac584d-f987-4fb1-bdd0-09bd90c60bbd",
   "metadata": {},
   "outputs": [],
   "source": [
    "cv2.imshow(\"Image Scalling ,Rotating \" , new_img)\n",
    "cv2.imshow(\"Image Scalling ,Rotating \" ,img1)\n",
    "cv2.waitKey(\n",
    "cv2.destroyAllWindows()"
   ]
  }
 ],
 "metadata": {
  "kernelspec": {
   "display_name": "Python 3 (ipykernel)",
   "language": "python",
   "name": "python3"
  },
  "language_info": {
   "codemirror_mode": {
    "name": "ipython",
    "version": 3
   },
   "file_extension": ".py",
   "mimetype": "text/x-python",
   "name": "python",
   "nbconvert_exporter": "python",
   "pygments_lexer": "ipython3",
   "version": "3.8.19"
  }
 },
 "nbformat": 4,
 "nbformat_minor": 5
}

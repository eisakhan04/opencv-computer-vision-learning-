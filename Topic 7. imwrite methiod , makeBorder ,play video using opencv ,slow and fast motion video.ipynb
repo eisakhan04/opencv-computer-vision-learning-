{
 "cells": [
  {
   "cell_type": "code",
   "execution_count": 7,
   "id": "cd63d5be-8840-497a-bc22-f1b1730aad41",
   "metadata": {},
   "outputs": [],
   "source": [
    "import cv2\n",
    "import numpy as np "
   ]
  },
  {
   "cell_type": "code",
   "execution_count": 6,
   "id": "6d8b6297-a4e3-4ed5-b6c6-b7f3cdec5cd6",
   "metadata": {},
   "outputs": [
    {
     "name": "stdout",
     "output_type": "stream",
     "text": [
      "(500, 500, 3)\n",
      "(500, 500)\n"
     ]
    }
   ],
   "source": [
    "img = cv2.imread(\"WhatsApp Image 2024-08-30 at 10.03.11 PM.jpeg\")\n",
    "img = cv2.resize(img , (500,500))\n",
    "print(img.shape)\n",
    "\n",
    "new_img = cv2.Canny(img , 200,200 ,apertureSize=5, L2gradient=True)\n",
    "print(new_img.shape)\n",
    "\n",
    "cv2.imshow(\"imwrite\" , new_img)\n",
    "cv2.imshow(\"imwrite1\" , img)\n",
    "\n",
    "cv2.waitKey(0)\n",
    "cv2.destroyAllWindows()"
   ]
  },
  {
   "cell_type": "markdown",
   "id": "a0bf127f-49f9-419a-b3e2-de748a56b985",
   "metadata": {},
   "source": [
    "# we are use imwrite save the image with using opencv "
   ]
  },
  {
   "cell_type": "code",
   "execution_count": 11,
   "id": "65beab1a-6696-4396-87f1-dfb999554af5",
   "metadata": {},
   "outputs": [],
   "source": [
    "img = cv2.imread(\"WhatsApp Image 2024-08-30 at 10.03.11 PM.jpeg\")\n",
    "re_img = cv2.resize(img , (300,300))\n",
    "\n",
    "h  = np.hstack((re_img , re_img))\n",
    "v = np.vstack((h,h))\n",
    "\n",
    "cv2.imwrite(\"new_img.png\" ,v )\n",
    "cv2.imshow(\"imwrite2\" , v)\n",
    "cv2.waitKey(0)\n",
    "cv2.destroyAllWindows()"
   ]
  },
  {
   "cell_type": "markdown",
   "id": "bd97658d-55c1-4e7a-997f-14a7ffb2e12f",
   "metadata": {},
   "source": [
    "# Make border using OpenCv"
   ]
  },
  {
   "cell_type": "code",
   "execution_count": 12,
   "id": "65925261-1e05-40ce-9dae-8c4f2428ebba",
   "metadata": {},
   "outputs": [],
   "source": [
    "import cv2\n",
    "import numpy as np"
   ]
  },
  {
   "cell_type": "code",
   "execution_count": 25,
   "id": "63bd8a52-cb8d-479f-85e9-07032284d38d",
   "metadata": {},
   "outputs": [],
   "source": [
    "img = cv2.imread(\"WhatsApp Image 2024-08-30 at 10.03.11 PM.jpeg\")\n",
    "img = cv2.resize(img , (300 ,300))\n",
    "\n",
    "img1 = cv2.copyMakeBorder(img , 20 ,20 ,20,20 ,cv2.BORDER_CONSTANT, None , value=2)\n",
    "img1 = cv2.resize(img1 , (300 ,300))\n",
    "\n",
    "img2 = cv2.copyMakeBorder(img , 20 ,20 ,20,20 ,cv2.BORDER_DEFAULT, None , value=2)\n",
    "img2 = cv2.resize(img1 , (300 ,300))\n",
    "\n",
    "h = np.hstack((img ,img1,img2 ))\n",
    "\n",
    "cv2.imshow(\"makeborder\" , h)\n",
    "cv2.waitKey(0)\n",
    "cv2.destroyAllWindows()\n"
   ]
  },
  {
   "cell_type": "code",
   "execution_count": 26,
   "id": "eabc763d-cd88-44f5-9cf4-e00be7ab7c17",
   "metadata": {},
   "outputs": [],
   "source": [
    "img = cv2.imread(\"WhatsApp Image 2024-08-30 at 10.03.11 PM.jpeg\")\n",
    "img = cv2.resize(img , (300 ,300))\n",
    "\n",
    "img1 = cv2.copyMakeBorder(img , 20 ,20 ,20,20 ,cv2.BORDER_REFLECT, None , value=2)\n",
    "\n",
    "\n",
    "img1 = cv2.resize(img1 , (300 ,300))\n",
    "\n",
    "\n",
    "h = np.hstack((img ,img1 ))\n",
    "\n",
    "cv2.imshow(\"makeborder\" , h)\n",
    "cv2.waitKey(0)\n",
    "cv2.destroyAllWindows()"
   ]
  },
  {
   "cell_type": "code",
   "execution_count": 20,
   "id": "e6ead942-3444-4631-b855-14c0a0d8f93f",
   "metadata": {},
   "outputs": [
    {
     "name": "stdout",
     "output_type": "stream",
     "text": [
      "(300, 300, 3)\n"
     ]
    }
   ],
   "source": [
    "img = cv2.imread(\"WhatsApp Image 2024-08-30 at 10.03.11 PM.jpeg\")\n",
    "img = cv2.resize(img , (300 ,300))\n",
    "\n",
    "img1 = cv2.copyMakeBorder(img , 20 ,20 ,20,20 ,cv2.BORDER_DEFAULT, None , value=2)\n",
    "\n",
    "\n",
    "img1 = cv2.resize(img1 , (300 ,300))\n",
    "\n",
    "\n",
    "h = np.hstack((img ,img1 ))\n",
    "\n",
    "cv2.imshow(\"makeborder\" , h)\n",
    "cv2.waitKey(0)\n",
    "cv2.destroyAllWindows()"
   ]
  },
  {
   "cell_type": "code",
   "execution_count": 27,
   "id": "f1d14412-a8ef-4cc5-a9c1-d24fb7042f42",
   "metadata": {},
   "outputs": [
    {
     "name": "stdout",
     "output_type": "stream",
     "text": [
      "(300, 300, 3)\n"
     ]
    }
   ],
   "source": [
    "img = cv2.imread(\"WhatsApp Image 2024-08-30 at 10.03.11 PM.jpeg\")\n",
    "img = cv2.resize(img , (300 ,300))\n",
    "\n",
    "img1 = cv2.copyMakeBorder(img , 20 ,20 ,20,20 ,cv2.BORDER_REPLICATE, None , value=2)\n",
    "\n",
    "\n",
    "img1 = cv2.resize(img1 , (300 ,300))\n",
    "print(img1.shape)\n",
    "\n",
    "h = np.hstack((img ,img1 ))\n",
    "\n",
    "cv2.imshow(\"makeborder\" , h)\n",
    "cv2.waitKey(0)\n",
    "cv2.destroyAllWindows()"
   ]
  },
  {
   "cell_type": "code",
   "execution_count": 29,
   "id": "c277f4e6-3b83-4b35-b589-b57cb1d592a9",
   "metadata": {},
   "outputs": [
    {
     "ename": "error",
     "evalue": "OpenCV(4.10.0) D:\\a\\opencv-python\\opencv-python\\opencv\\modules\\core\\src\\copy.cpp:791: error: (-5:Bad argument) Unknown/unsupported border type in function 'cv::borderInterpolate'\n",
     "output_type": "error",
     "traceback": [
      "\u001b[1;31m---------------------------------------------------------------------------\u001b[0m",
      "\u001b[1;31merror\u001b[0m                                     Traceback (most recent call last)",
      "Cell \u001b[1;32mIn[29], line 4\u001b[0m\n\u001b[0;32m      1\u001b[0m img \u001b[38;5;241m=\u001b[39m cv2\u001b[38;5;241m.\u001b[39mimread(\u001b[38;5;124m\"\u001b[39m\u001b[38;5;124mWhatsApp Image 2024-08-30 at 10.03.11 PM.jpeg\u001b[39m\u001b[38;5;124m\"\u001b[39m)\n\u001b[0;32m      2\u001b[0m img \u001b[38;5;241m=\u001b[39m cv2\u001b[38;5;241m.\u001b[39mresize(img , (\u001b[38;5;241m300\u001b[39m ,\u001b[38;5;241m300\u001b[39m))\n\u001b[1;32m----> 4\u001b[0m img1 \u001b[38;5;241m=\u001b[39m \u001b[43mcv2\u001b[49m\u001b[38;5;241;43m.\u001b[39;49m\u001b[43mcopyMakeBorder\u001b[49m\u001b[43m(\u001b[49m\u001b[43mimg\u001b[49m\u001b[43m \u001b[49m\u001b[43m,\u001b[49m\u001b[43m \u001b[49m\u001b[38;5;241;43m20\u001b[39;49m\u001b[43m \u001b[49m\u001b[43m,\u001b[49m\u001b[38;5;241;43m20\u001b[39;49m\u001b[43m \u001b[49m\u001b[43m,\u001b[49m\u001b[38;5;241;43m20\u001b[39;49m\u001b[43m,\u001b[49m\u001b[38;5;241;43m20\u001b[39;49m\u001b[43m \u001b[49m\u001b[43m,\u001b[49m\u001b[43mcv2\u001b[49m\u001b[38;5;241;43m.\u001b[39;49m\u001b[43mBORDER_TRANSPARENT\u001b[49m\u001b[43m)\u001b[49m\n\u001b[0;32m      7\u001b[0m img1 \u001b[38;5;241m=\u001b[39m cv2\u001b[38;5;241m.\u001b[39mresize(img1 , (\u001b[38;5;241m300\u001b[39m ,\u001b[38;5;241m300\u001b[39m))\n\u001b[0;32m      8\u001b[0m \u001b[38;5;28mprint\u001b[39m(img1\u001b[38;5;241m.\u001b[39mshape)\n",
      "\u001b[1;31merror\u001b[0m: OpenCV(4.10.0) D:\\a\\opencv-python\\opencv-python\\opencv\\modules\\core\\src\\copy.cpp:791: error: (-5:Bad argument) Unknown/unsupported border type in function 'cv::borderInterpolate'\n"
     ]
    }
   ],
   "source": [
    "img = cv2.imread(\"WhatsApp Image 2024-08-30 at 10.03.11 PM.jpeg\")\n",
    "img = cv2.resize(img , (300 ,300))\n",
    "\n",
    "img1 = cv2.copyMakeBorder(img , 20 ,20 ,20,20 ,cv2.BORDER_TRANSPARENT)\n",
    "\n",
    "img1 = cv2.resize(img1 , (300 ,300))\n",
    "print(img1.shape)\n",
    "\n",
    "h = np.hstack((img ,img1 ))\n",
    "\n",
    "cv2.imshow(\"makeborder\" , h)\n",
    "cv2.waitKey(0)\n",
    "cv2.destroyAllWindows()"
   ]
  },
  {
   "cell_type": "code",
   "execution_count": 23,
   "id": "d7fa687a-804b-425f-b186-176819eb8d5b",
   "metadata": {},
   "outputs": [
    {
     "name": "stdout",
     "output_type": "stream",
     "text": [
      "(300, 300, 3)\n"
     ]
    }
   ],
   "source": [
    "img = cv2.imread(\"WhatsApp Image 2024-08-30 at 10.03.11 PM.jpeg\")\n",
    "img = cv2.resize(img , (300 ,300))\n",
    "\n",
    "img1 = cv2.copyMakeBorder(img , 20 ,20 ,20,20 ,cv2.BORDER_WRAP, None , value=2)\n",
    "\n",
    "\n",
    "img1 = cv2.resize(img1 , (300 ,300))\n",
    "print(img1.shape)\n",
    "\n",
    "h = np.hstack((img ,img1 ))\n",
    "\n",
    "cv2.imshow(\"makeborder\" , h)\n",
    "cv2.waitKey(0)\n",
    "cv2.destroyAllWindows()"
   ]
  },
  {
   "cell_type": "markdown",
   "id": "a61285be-ded1-41da-b468-617fa48ecaa6",
   "metadata": {},
   "source": [
    "# Play a video using opencv "
   ]
  },
  {
   "cell_type": "code",
   "execution_count": 30,
   "id": "a6c55f53-9796-4de1-b6d9-a78161386422",
   "metadata": {},
   "outputs": [],
   "source": [
    "import cv2 "
   ]
  },
  {
   "cell_type": "code",
   "execution_count": 38,
   "id": "73669f9c-ef6c-41b5-ad1f-43879bb0cc24",
   "metadata": {},
   "outputs": [],
   "source": [
    "cap = cv2.VideoCapture(r\"G:\\final-1.mp4\")\n",
    "\n",
    "while cap.isOpened():\n",
    "    r , frame = cap.read()\n",
    "    if r == True:\n",
    "        frame = cv2.resize(frame , (600,500))\n",
    "        cv2.imshow(\"video\", frame )\n",
    "        if cv2.waitKey(30) & 0xff == ord(\"p\"):\n",
    "            break\n",
    "    else:\n",
    "        break\n",
    "\n",
    "cap.release()\n",
    "cv2.destroyAllWindows()"
   ]
  },
  {
   "cell_type": "markdown",
   "id": "2cf969fc-ec35-4e63-9de5-845bdfb49410",
   "metadata": {},
   "source": [
    "# capture Video from Camera"
   ]
  },
  {
   "cell_type": "code",
   "execution_count": null,
   "id": "3b85085f-e3f4-4e60-8ce0-046c14fc446f",
   "metadata": {},
   "outputs": [],
   "source": [
    "cap = cv2.VideoCapture(0)\n",
    "while cap.isOpened():\n",
    "    r , frame = cap.read()\n",
    "    if r == True:\n",
    "        frame = cv2.resize(frame , (500,500))\n",
    "        "
   ]
  },
  {
   "cell_type": "code",
   "execution_count": 39,
   "id": "5cad335d-9ba0-4044-bf94-61f98b3c816c",
   "metadata": {},
   "outputs": [],
   "source": [
    "cap = cv2.VideoCapture(0)\n",
    "\n",
    "while cap.isOpened():\n",
    "    r , frame = cap.read()\n",
    "    if r == True:\n",
    "        frame = cv2.resize(frame , (600,500))\n",
    "        cv2.imshow(\"video\", frame )\n",
    "        if cv2.waitKey(30) & 0xff == ord(\"p\"):\n",
    "            break\n",
    "    else:\n",
    "        break\n",
    "\n",
    "cap.release()\n",
    "cv2.destroyAllWindows()"
   ]
  },
  {
   "cell_type": "markdown",
   "id": "182d6043-8dfc-4152-9895-4e096c5d439b",
   "metadata": {},
   "source": [
    "# slow and fast motion Video"
   ]
  },
  {
   "cell_type": "code",
   "execution_count": 43,
   "id": "810cb465-7d74-45e7-a1c1-5100b22f9df9",
   "metadata": {},
   "outputs": [],
   "source": [
    "cap = cv2.VideoCapture(r\"G:\\final-1.mp4\")\n",
    "\n",
    "while cap.isOpened():\n",
    "    r , frame = cap.read()\n",
    "    if r == True:\n",
    "        frame = cv2.resize(frame , (600,500))\n",
    "        cv2.imshow(\"video\", frame )\n",
    "        if cv2.waitKey(40) & 0xff == ord(\"p\"):\n",
    "            break\n",
    "    else:\n",
    "        break\n",
    "\n",
    "cap.release()\n",
    "cv2.destroyAllWindows()"
   ]
  },
  {
   "cell_type": "code",
   "execution_count": null,
   "id": "f120b785-0b1e-429e-9260-36bc626db367",
   "metadata": {},
   "outputs": [],
   "source": []
  },
  {
   "cell_type": "code",
   "execution_count": null,
   "id": "01b69d17-2b1a-498c-9151-ad9585aeaa84",
   "metadata": {},
   "outputs": [],
   "source": []
  },
  {
   "cell_type": "code",
   "execution_count": null,
   "id": "ca1fb54f-8183-4514-80d1-6cb8343447a2",
   "metadata": {},
   "outputs": [],
   "source": []
  },
  {
   "cell_type": "code",
   "execution_count": null,
   "id": "70b2d174-7564-4c31-b527-feb5747b67bb",
   "metadata": {},
   "outputs": [],
   "source": []
  },
  {
   "cell_type": "code",
   "execution_count": null,
   "id": "9c6fd8ae-45c4-411e-a478-0e49dc3ccf3e",
   "metadata": {},
   "outputs": [],
   "source": []
  }
 ],
 "metadata": {
  "kernelspec": {
   "display_name": "Python 3 (ipykernel)",
   "language": "python",
   "name": "python3"
  },
  "language_info": {
   "codemirror_mode": {
    "name": "ipython",
    "version": 3
   },
   "file_extension": ".py",
   "mimetype": "text/x-python",
   "name": "python",
   "nbconvert_exporter": "python",
   "pygments_lexer": "ipython3",
   "version": "3.8.19"
  }
 },
 "nbformat": 4,
 "nbformat_minor": 5
}

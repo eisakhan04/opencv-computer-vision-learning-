{
 "cells": [
  {
   "cell_type": "code",
   "execution_count": 1,
   "id": "97811872-f4d8-4b59-b502-33349ca7f0ed",
   "metadata": {},
   "outputs": [],
   "source": [
    "import numpy as np \n",
    "import pandas as pd \n",
    "import matplotlib.pyplot as plt \n",
    "import cv2 "
   ]
  },
  {
   "cell_type": "code",
   "execution_count": 2,
   "id": "59d1bb56-a464-4825-84e8-f940e29e1a95",
   "metadata": {},
   "outputs": [],
   "source": [
    "Video_path1 = r\"G:\\Laravel Complete Tutorial\\Laravel _ Migration Primary .mp4\"\n",
    "Video_path2 = r\"G:\\Laravel Complete Tutorial\\Laravel _ Migration Primary .mp4\"\n",
    "\n"
   ]
  },
  {
   "cell_type": "code",
   "execution_count": 3,
   "id": "9be8aa81-40a7-438f-a17b-3e34c2faf89d",
   "metadata": {},
   "outputs": [],
   "source": [
    "cap = cv2.VideoCapture(Video_path1)\n",
    "\n",
    "while cap.isOpened():\n",
    "    ret , frame = cap.read()\n",
    "    if ret:\n",
    "        image = cv2.resize(frame , (600 , 400))\n",
    "        cv2.imshow( \"video player\" , image)\n",
    "        \n",
    "        if cv2.waitKey(25)  & 0xff == ord('q'):\n",
    "            break\n",
    "    else:\n",
    "        break \n",
    "\n",
    "cap.release()\n",
    "cv2.destroyAllWindows()\n"
   ]
  },
  {
   "cell_type": "code",
   "execution_count": 5,
   "id": "07bee328-be35-4ef4-a4f4-d849d065d293",
   "metadata": {},
   "outputs": [],
   "source": [
    "# access camera\n",
    "\n",
    "cap = cv2.VideoCapture(0)\n",
    "\n",
    "while cap.isOpened():\n",
    "    ret , frame = cap.read()\n",
    "    if ret:\n",
    "        image = cv2.resize(frame , (600 , 400))\n",
    "        cv2.imshow( \"video player\" , image)\n",
    "        \n",
    "        if cv2.waitKey(25)  & 0xff == ord('q'):\n",
    "            break\n",
    "    else:\n",
    "        break \n",
    "\n",
    "cap.release()\n",
    "cv2.destroyAllWindows()"
   ]
  },
  {
   "cell_type": "code",
   "execution_count": null,
   "id": "ba70cfe0-f11a-456d-baaa-ee2b505647cd",
   "metadata": {},
   "outputs": [],
   "source": []
  },
  {
   "cell_type": "code",
   "execution_count": 8,
   "id": "8ff73881-bb96-4e1c-a7c9-f72c17f750a4",
   "metadata": {},
   "outputs": [],
   "source": [
    "Video_path1 = r\"G:\\Laravel Complete Tutorial\\Laravel _ Migration Primary .mp4\"\n",
    "img  = r\"C:\\Users\\Mega Computers\\Pictures\\pexels-pixabay-459203.jpg\"\n",
    "\n",
    "cap1 = cv2.VideoCapture(Video_path1)\n",
    "cap2 = cv2.VideoCapture(Video_path2)\n",
    "cap3 = cv2.VideoCapture(0)\n",
    "\n",
    "while cap1.isOpened():\n",
    "    ret1 , frame = cap1.read()\n",
    "    ret2 , frame2 = cap2.read()\n",
    "    ret3 , c_frame = cap3.read()\n",
    "    if ret1: \n",
    "        frame1 = cv2.resize(frame , (600 , 400))\n",
    "        frame2 = cv2.resize(frame2 , (600 , 400))\n",
    "        \n",
    "        camera_frame = cv2.resize(c_frame , (600 , 400))\n",
    "\n",
    "        image = cv2.imread(img)\n",
    "        image = cv2.resize(image , (600 , 400))\n",
    "\n",
    "        frame_2 = np.hstack((frame1 , frame2 )) \n",
    "        frame_02 = np.hstack((camera_frame , image )) \n",
    "        frame_4 = np.vstack((frame_2 , frame_02 ))\n",
    "\n",
    "        cv2.imshow(\"video player\" , frame_4)\n",
    "\n",
    "        if cv2.waitKey(25)  & 0xff == ord('q'):\n",
    "            break\n",
    "    else:\n",
    "        break \n",
    "\n",
    "cap1.release()\n",
    "cv2.destroyAllWindows()\n"
   ]
  },
  {
   "cell_type": "code",
   "execution_count": null,
   "id": "86487084-c0df-4759-b8c3-6795be85ad84",
   "metadata": {},
   "outputs": [],
   "source": []
  }
 ],
 "metadata": {
  "kernelspec": {
   "display_name": "Python 3 (ipykernel)",
   "language": "python",
   "name": "python3"
  },
  "language_info": {
   "codemirror_mode": {
    "name": "ipython",
    "version": 3
   },
   "file_extension": ".py",
   "mimetype": "text/x-python",
   "name": "python",
   "nbconvert_exporter": "python",
   "pygments_lexer": "ipython3",
   "version": "3.8.19"
  }
 },
 "nbformat": 4,
 "nbformat_minor": 5
}

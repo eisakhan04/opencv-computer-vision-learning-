{
 "cells": [
  {
   "cell_type": "markdown",
   "id": "10e2b6f9-da84-43ba-88c4-4ee1ffdcbf0c",
   "metadata": {},
   "source": [
    "# Region of interest"
   ]
  },
  {
   "cell_type": "code",
   "execution_count": 2,
   "id": "a2dec3ac-485e-423f-9ca4-9327a04f996a",
   "metadata": {},
   "outputs": [],
   "source": [
    "import cv2\n",
    "import numpy as np"
   ]
  },
  {
   "cell_type": "code",
   "execution_count": null,
   "id": "0b4a71ba-a309-4039-9a6d-afb423540f42",
   "metadata": {},
   "outputs": [],
   "source": []
  },
  {
   "cell_type": "code",
   "execution_count": 10,
   "id": "0c83ecac-0b29-4360-acb7-46c3a7b0fa76",
   "metadata": {},
   "outputs": [],
   "source": []
  },
  {
   "cell_type": "code",
   "execution_count": 56,
   "id": "5bbd5e66-1d39-4776-8ce2-0ae79c846eb9",
   "metadata": {},
   "outputs": [],
   "source": [
    "import cv2 \n",
    "\n",
    "img = cv2.imread(\"eisa.jpeg\")\n",
    "\n",
    "crop = img[30:150, 200:350]\n",
    "\n",
    "img[30:150, 350:500] = crop\n",
    "\n",
    "cv2.imwrite(\"save.jpg\", img)\n",
    "cv2.imshow(\"org\", img)\n",
    "cv2.waitKey(0)\n",
    "cv2.destroyAllWindows()"
   ]
  },
  {
   "cell_type": "code",
   "execution_count": 53,
   "id": "e66ecef7-fe81-4b87-8e11-6c06580ad837",
   "metadata": {},
   "outputs": [],
   "source": [
    "# img[y1:y2,x1:x2]  crop\n",
    "\n",
    "img = cv2.imread(\"save.jpg\")\n",
    "\n",
    "# crop = img[438:5,722:346]\n",
    "crop = img[30:150, 200:350] \n",
    "\n",
    "cv2.imshow(\"crop\", crop)\n",
    "cv2.imshow(\"save\", img)\n",
    "cv2.waitKey(0)\n",
    "cv2.destroyAllWindows()\n"
   ]
  },
  {
   "cell_type": "code",
   "execution_count": null,
   "id": "f8954f52-5c62-442d-9b3e-8d6c87501920",
   "metadata": {},
   "outputs": [],
   "source": []
  },
  {
   "cell_type": "code",
   "execution_count": 50,
   "id": "138ea2bd-2ac4-498c-893f-ea25533bdd7c",
   "metadata": {},
   "outputs": [],
   "source": [
    "import cv2\n",
    "\n",
    "# Load an image\n",
    "img = cv2.imread(\"save.jpg\")\n",
    "\n",
    "# Define the Region of Interest (ROI)\n",
    "# ROI: img[y1:y2, x1:x2] where y1, y2 are row ranges and x1, x2 are column ranges\n",
    "roi = img[100:300, 200:400]  # This extracts the region from (200, 100) to (400, 300)\n",
    "\n",
    "# Display the original image and the ROI\n",
    "cv2.imshow(\"Original Image\", img)\n",
    "cv2.imshow(\"Region of Interest\", roi)\n",
    "\n",
    "# Wait until a key is pressed and close all windows\n",
    "cv2.waitKey(0)\n",
    "cv2.destroyAllWindows()\n"
   ]
  },
  {
   "cell_type": "code",
   "execution_count": 51,
   "id": "bc2bcc4f-013b-456e-a927-d160466edcb6",
   "metadata": {},
   "outputs": [],
   "source": [
    "# Convert the ROI to grayscale\n",
    "gray_roi = cv2.cvtColor(roi, cv2.COLOR_BGR2GRAY)\n",
    "\n",
    "# Convert grayscale back to BGR (to place it back into the original image)\n",
    "gray_roi_bgr = cv2.cvtColor(gray_roi, cv2.COLOR_GRAY2BGR)\n",
    "\n",
    "# Place the modified ROI back into the original image\n",
    "img[100:300, 200:400] = gray_roi_bgr\n",
    "\n",
    "# Display the modified image\n",
    "cv2.imshow(\"Modified Image\", img)\n",
    "cv2.waitKey(0)\n",
    "cv2.destroyAllWindows()\n"
   ]
  },
  {
   "cell_type": "code",
   "execution_count": null,
   "id": "5d49207d-b3bd-48ba-9c40-4e4eaea81d13",
   "metadata": {},
   "outputs": [],
   "source": []
  },
  {
   "cell_type": "markdown",
   "id": "1a1d06b8-2675-4c36-a707-ddbb4f6e79c6",
   "metadata": {},
   "source": [
    "# flip , Rotate , & Transpose "
   ]
  },
  {
   "cell_type": "code",
   "execution_count": 67,
   "id": "1aff809e-8b0b-4830-902e-8f7a69b7ca6a",
   "metadata": {},
   "outputs": [],
   "source": [
    "img = cv2.imread(\"eisa.jpeg\")\n",
    "img = cv2.resize(img , (500,500))\n",
    "\n",
    "\n",
    "# img = cv2.flip(img, 1)\n",
    "# img = cv2.flip(img, 0)\n",
    "# img = cv2.flip(img, -1)\n",
    "#img = cv2.rotate(img , cv2.ROTATE_180)\n",
    "\n",
    "img = cv2.transpose(img)\n",
    "\n",
    "cv2.imshow(\"img\" , img)\n",
    "cv2.waitKey(0)\n",
    "cv2.destroyAllWindows()"
   ]
  },
  {
   "cell_type": "code",
   "execution_count": null,
   "id": "7ea48dde-d593-4da7-bc6e-81301f065af3",
   "metadata": {},
   "outputs": [],
   "source": []
  },
  {
   "cell_type": "markdown",
   "id": "71cc9e0b-3955-4e61-8888-1d7f0f110ae8",
   "metadata": {},
   "source": [
    "# Save a Video using Opencv"
   ]
  },
  {
   "cell_type": "code",
   "execution_count": 74,
   "id": "51b8c8f0-55db-4fd8-88af-9042effd7fc2",
   "metadata": {},
   "outputs": [],
   "source": [
    "import cv2 \n",
    "import numpy as np "
   ]
  },
  {
   "cell_type": "code",
   "execution_count": 75,
   "id": "d3ef44ba-9667-44b8-86c0-488543f1cc53",
   "metadata": {},
   "outputs": [],
   "source": [
    "cap = cv2.VideoCapture(0)\n",
    "\n",
    "f = cv2.VideoWriter_fourcc(*\"XVID\")\n",
    "out = cv2.VideoWriter(\"demo1.mp4\" , f , 20.0, (640,640), 0)\n",
    "while cap.isOpened():\n",
    "    r , frame = cap.read()\n",
    "    if r == True:\n",
    "        frame = cv2.cvtColor(frame , cv2.COLOR_BGR2GRAY)\n",
    "        frame = cv2.flip(frame ,1)\n",
    "        out.write(frame) \n",
    "        cv2.imshow(\"video\", frame)\n",
    "        \n",
    "        if cv2.waitKey(25) & 0xff == ord(\"p\"):\n",
    "            break\n",
    "    else :\n",
    "        break\n",
    "\n",
    "\n",
    "cap.release()\n",
    "cap.release()\n",
    "cv2.destroyAllWindows()"
   ]
  },
  {
   "cell_type": "code",
   "execution_count": null,
   "id": "2b2ac910-cffb-45ff-b140-ec6132ce3d88",
   "metadata": {},
   "outputs": [],
   "source": []
  },
  {
   "cell_type": "code",
   "execution_count": null,
   "id": "fae0222b-1560-4115-bf63-50d38e7c467f",
   "metadata": {},
   "outputs": [],
   "source": []
  },
  {
   "cell_type": "code",
   "execution_count": null,
   "id": "b30feda3-14a9-4944-9a21-9f35f97f568c",
   "metadata": {},
   "outputs": [],
   "source": []
  },
  {
   "cell_type": "code",
   "execution_count": null,
   "id": "c491c715-b639-415b-a49b-98309d04bd04",
   "metadata": {},
   "outputs": [],
   "source": []
  }
 ],
 "metadata": {
  "kernelspec": {
   "display_name": "Python 3 (ipykernel)",
   "language": "python",
   "name": "python3"
  },
  "language_info": {
   "codemirror_mode": {
    "name": "ipython",
    "version": 3
   },
   "file_extension": ".py",
   "mimetype": "text/x-python",
   "name": "python",
   "nbconvert_exporter": "python",
   "pygments_lexer": "ipython3",
   "version": "3.8.19"
  }
 },
 "nbformat": 4,
 "nbformat_minor": 5
}

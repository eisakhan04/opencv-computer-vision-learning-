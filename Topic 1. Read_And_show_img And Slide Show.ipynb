{
 "cells": [
  {
   "cell_type": "code",
   "execution_count": 1,
   "id": "934a8c61-f03a-438b-a95c-4974014d9404",
   "metadata": {},
   "outputs": [],
   "source": [
    "import numpy as np"
   ]
  },
  {
   "cell_type": "code",
   "execution_count": 2,
   "id": "21dc572d-2cab-46a0-90e7-17a05772010d",
   "metadata": {},
   "outputs": [],
   "source": [
    "import matplotlib"
   ]
  },
  {
   "cell_type": "code",
   "execution_count": 3,
   "id": "9f1141e1-fe20-4c9b-bfc9-82de5bf0e12c",
   "metadata": {},
   "outputs": [],
   "source": [
    "import pandas "
   ]
  },
  {
   "cell_type": "code",
   "execution_count": 4,
   "id": "a59a101f-5ae9-4561-8a42-c0bead263eb6",
   "metadata": {
    "scrolled": true
   },
   "outputs": [],
   "source": [
    "import os "
   ]
  },
  {
   "cell_type": "code",
   "execution_count": 5,
   "id": "c1ae1c41-8611-4cb1-ac4b-8ed88081e9bf",
   "metadata": {},
   "outputs": [],
   "source": [
    "import cv2 "
   ]
  },
  {
   "cell_type": "code",
   "execution_count": 6,
   "id": "e9bdf7b4-64d6-4890-b4f0-f60b5a721573",
   "metadata": {},
   "outputs": [
    {
     "name": "stdout",
     "output_type": "stream",
     "text": [
      "4.10.0\n"
     ]
    }
   ],
   "source": [
    "import cv2\n",
    "print(cv2.__version__)"
   ]
  },
  {
   "cell_type": "code",
   "execution_count": 7,
   "id": "297914ea-f4ac-4789-a8f6-87737b344b13",
   "metadata": {},
   "outputs": [
    {
     "name": "stdout",
     "output_type": "stream",
     "text": [
      "Python version: 3.8.19 (default, Mar 20 2024, 19:55:45) [MSC v.1916 64 bit (AMD64)]\n",
      "OpenCV version: 4.10.0\n"
     ]
    }
   ],
   "source": [
    "import cv2\n",
    "import sys\n",
    "\n",
    "print(f\"Python version: {sys.version}\")\n",
    "print(f\"OpenCV version: {cv2.__version__}\")\n"
   ]
  },
  {
   "cell_type": "code",
   "execution_count": 7,
   "id": "51224c01-b597-437f-9b39-1fac6a25fb71",
   "metadata": {},
   "outputs": [],
   "source": [
    "path = r\"C:\\Users\\Mega Computers\\Pictures\\chris-ried-sqJ40H9RtNw-unsplash.jpg\"\n",
    "img = cv2.imread(path)\n",
    "\n",
    "cv2.imshow('image=' ,img)\n",
    "\n",
    "cv2.waitKey(0)\n",
    "\n",
    "cv2.destroyAllWindows()"
   ]
  },
  {
   "cell_type": "code",
   "execution_count": 8,
   "id": "c062f08a-8e65-49d2-baeb-2ec611941ef5",
   "metadata": {},
   "outputs": [],
   "source": [
    "img = cv2.imread(path)\n",
    "\n",
    "img = cv2.resize(img , (600 ,400))\n",
    "\n",
    "cv2.imshow('image=' ,img)\n",
    "\n",
    "cv2.waitKey(0)\n",
    "\n",
    "cv2.destroyAllWindows()"
   ]
  },
  {
   "cell_type": "code",
   "execution_count": 8,
   "id": "582402f6-b4db-48d8-b669-5a338eed794e",
   "metadata": {},
   "outputs": [],
   "source": []
  },
  {
   "cell_type": "code",
   "execution_count": 10,
   "id": "8ed8426d-2349-4884-9f95-5b761c8a96ad",
   "metadata": {},
   "outputs": [],
   "source": [
    "img = cv2.imread(\"WhatsApp Image 2024-08-30 at 10.03.11 PM.jpeg\") # image read \n",
    "re = cv2.resize(img , (600 , 600))\n",
    "cv2.imshow(\"Eisa\" ,re)# image show \n",
    "cv2.imshow(\"Eisa 1 \" ,img)     \n",
    "cv2.waitKey(0)             # image frame wait time ms and 0 pass keyborad any key press \n",
    "cv2.destroyAllWindows()       # all windows close \n",
    "#cv2.destroyWindow(\"Eisa 1 \")           # only one window close \n"
   ]
  },
  {
   "cell_type": "markdown",
   "id": "ded94911-bad6-471a-8832-b4d4e2c231db",
   "metadata": {},
   "source": [
    "# Show Multiple Image and Slide Show "
   ]
  },
  {
   "cell_type": "code",
   "execution_count": 9,
   "id": "2439c738-625b-40e6-b198-3ecd6554f9f7",
   "metadata": {},
   "outputs": [],
   "source": [
    "img = cv2.imread(r\"C:\\Users\\Mega Computers\\Pictures\\dennis-buchner-elk8DRDVYLI-unsplash.jpg\")\n",
    "re_img = cv2.resize(img , (800 , 500))\n",
    "cv2.imshow(\"coder\" , re_img)\n",
    "cv2.waitKey(0)\n",
    "cv2.destroyAllWindows() \n",
    "# cv2.destoryAllWindows()"
   ]
  },
  {
   "cell_type": "code",
   "execution_count": 18,
   "id": "3f0ad50c-ccf9-4bde-baa9-2a8f8f928427",
   "metadata": {},
   "outputs": [
    {
     "data": {
      "text/plain": [
       "array([1, 2, 3, 1, 2, 3, 1, 2, 3, 1, 2, 3])"
      ]
     },
     "execution_count": 18,
     "metadata": {},
     "output_type": "execute_result"
    }
   ],
   "source": [
    "v = np.array([1,2,3,1,2,3])\n",
    "np.hstack((v,v))\n"
   ]
  },
  {
   "cell_type": "code",
   "execution_count": 11,
   "id": "339e69b7-26ef-4e36-9a4b-126eb16f941a",
   "metadata": {},
   "outputs": [
    {
     "name": "stdout",
     "output_type": "stream",
     "text": [
      "[[[141 160 203]\n",
      "  [141 160 203]\n",
      "  [141 160 203]\n",
      "  ...\n",
      "  [117 152 202]\n",
      "  [ 51  87 135]\n",
      "  [ 11  49  97]]\n",
      "\n",
      " [[141 160 203]\n",
      "  [141 160 203]\n",
      "  [141 160 203]\n",
      "  ...\n",
      "  [116 151 201]\n",
      "  [ 50  86 134]\n",
      "  [ 11  49  97]]\n",
      "\n",
      " [[141 160 203]\n",
      "  [141 160 203]\n",
      "  [141 160 203]\n",
      "  ...\n",
      "  [115 151 199]\n",
      "  [ 49  85 133]\n",
      "  [ 10  48  96]]\n",
      "\n",
      " ...\n",
      "\n",
      " [[139  56   0]\n",
      "  [138  58   0]\n",
      "  [137  56   0]\n",
      "  ...\n",
      "  [ 95 101 108]\n",
      "  [ 29  35  40]\n",
      "  [ 25  32  35]]\n",
      "\n",
      " [[119  47   0]\n",
      "  [119  48   0]\n",
      "  [118  46   0]\n",
      "  ...\n",
      "  [ 54  60  67]\n",
      "  [  5  11  16]\n",
      "  [ 11  18  21]]\n",
      "\n",
      " [[112  45   0]\n",
      "  [112  45   0]\n",
      "  [109  44   0]\n",
      "  ...\n",
      "  [ 33  39  46]\n",
      "  [  0   4   9]\n",
      "  [ 11  18  21]]]\n"
     ]
    }
   ],
   "source": [
    "img = cv2.imread(\"WhatsApp Image 2024-08-30 at 10.03.11 PM.jpeg\") # image read \n",
    "print(img) # RGB"
   ]
  },
  {
   "cell_type": "code",
   "execution_count": 20,
   "id": "d80dd2f1-400c-4a8e-8ac0-2b6d6b3eadba",
   "metadata": {},
   "outputs": [],
   "source": [
    "img = cv2.imread(r\"WhatsApp Image 2024-08-30 at 10.03.11 PM.jpeg\")\n",
    "re_img = cv2.resize(img , (300 , 500))\n",
    "h = np.hstack((re_img , re_img))\n",
    "cv2.imshow(\"coder\" , h)\n",
    "cv2.waitKey(0)\n",
    "cv2.destroyAllWindows() \n",
    "# cv2.destoryAllWindows()"
   ]
  },
  {
   "cell_type": "code",
   "execution_count": 24,
   "id": "8cca431c-e75f-4722-a71a-eb658a1ebc53",
   "metadata": {},
   "outputs": [],
   "source": [
    "img = cv2.imread(r\"WhatsApp Image 2024-08-30 at 10.03.11 PM.jpeg\")\n",
    "re_img = cv2.resize(img , (300 , 300))\n",
    "h = np.hstack((re_img , re_img , re_img))\n",
    "v = np.vstack((h , h))\n",
    "cv2.imshow(\"coder\" , v)\n",
    "cv2.waitKey(0)\n",
    "cv2.destroyAllWindows() \n",
    "# cv2.destoryAllWindows()"
   ]
  },
  {
   "cell_type": "code",
   "execution_count": 9,
   "id": "10326cda-6dfb-49aa-b9f2-29cce9df90c4",
   "metadata": {},
   "outputs": [
    {
     "data": {
      "text/plain": [
       "['65f46cb7d78a4b3bd08029d9_65f46900f851c380fef1569a-c22a31c353f3dc41aed3dfc82e60072b.jpeg',\n",
       " 'abstract-1920x1080-huawei-matebook-e-2019-hd-21829.jpg',\n",
       " 'apple-1920x1080-fruit-autumn-4k-16216.jpg',\n",
       " 'apples_branch_leaves_background_85594_3840x2160.jpg',\n",
       " 'apple_branch_fruit_ripe_108947_3840x2160.jpg',\n",
       " 'apricot-1920x1080-5k-15358.jpg',\n",
       " 'banana_basket_fruit_77494_3840x2160.jpg',\n",
       " 'banana_fruit_herbs_77493_3840x2160.jpg',\n",
       " 'basket-fruit-1920x1080-lemon-lime-apple-grapes-strawberries-823.jpg',\n",
       " 'berry_wild_berry_ripe_leaves_107784_3840x2160.jpg',\n",
       " 'cake-2560x1440-strawberry-mint-berries-4425.jpg',\n",
       " 'cake_cookies_dessert_raspberry_berry_lemon_93440_3840x2160.jpg',\n",
       " 'Camera Roll',\n",
       " 'cherries-1920x1080-delicious-4k-15366.jpg',\n",
       " 'chris-ried-sqJ40H9RtNw-unsplash.jpg',\n",
       " 'christian-joudrey-u_nsiSvPEak-unsplash.jpg',\n",
       " 'chrysanthemum_flower_petals_118883_3840x2160.jpg',\n",
       " 'cookies_pastries_shape_dessert_106708_3840x2160.jpg',\n",
       " 'cupcake-1920x1080-fruits-raspberry-4148.jpg',\n",
       " 'currant_berry_ripe_branch_110002_3840x2160.jpg',\n",
       " 'daniel-olah-5_eRcisHc2c-unsplash.jpg',\n",
       " 'david-becker-dMeEJRE18VI-unsplash.jpg',\n",
       " 'dennis-buchner-elk8DRDVYLI-unsplash.jpg',\n",
       " 'desktop.ini',\n",
       " 'flower_petals_hyacinth_91803_3840x2160.jpg',\n",
       " 'fly_agaric_mushroom_red_150367_3840x2160.jpg',\n",
       " 'fruits-1920x1080-summer-berries-strawberry-blackberry-basket-4350.jpg',\n",
       " 'fruits-2560x1440-summer-berries-strawberry-blackberry-basket-4350.jpg',\n",
       " 'grapefruit-1920x1080-4k-16044.jpg',\n",
       " 'grapes-1920x1080-5k-15354.jpg',\n",
       " 'greek-1920x1080-cooking-recipe-lettuce-tomatoes-paprika-olives-feta-4k-17422.jpg',\n",
       " 'ice-cream-1920x1080-cake-pops-delicious-chocolate-strawberry-sugar-488.jpg',\n",
       " 'ice-cream-1920x1080-cherries-delicious-4k-15363.jpg',\n",
       " 'ice-cream-2560x1440-raspberry-berries-4150.jpg',\n",
       " 'ice_cream_citrus_ice_fruit_116943_3840x2160.jpg',\n",
       " 'ice_cream_cone_lavender_dessert_101521_3840x2160.jpg',\n",
       " 'japan_shirakawa_houses_mountains_trees_112963_3840x2160.jpg',\n",
       " 'katerina-pavlyuchkova-FQYCJSqER_0-unsplash.jpg',\n",
       " 'lemonade-2560x1440-drinks-cocktails-juice-summer-sun-fruit-lemon-ice-432.jpg',\n",
       " 'lime-1920x1080-green-4k-17423.jpg',\n",
       " 'mandarins_clementines_citrus_113241_3840x2160.jpg',\n",
       " 'mango-1920x1080-fruit-8k-15336.jpg',\n",
       " 'meat_vegetables_dish_meatballs_tomato_lime_greens_109171_3840x2160.jpg',\n",
       " 'mechanism_iron_hard_drive_hdd_29653_1400x1050.jpg',\n",
       " 'orchid_flower_petals_pink_116453_3840x2160.jpg',\n",
       " 'paint_liquid_clots_130931_3840x2160.jpg',\n",
       " 'peach-5120x2880-delicious-5k-15263.jpg',\n",
       " 'peaches_fruit_ripe_109190_3840x2160.jpg',\n",
       " 'peach_marzipan_praline_109862_3840x2160.jpg',\n",
       " 'pear-1920x1080-fruit-4k-15351.jpg',\n",
       " 'pear-1920x1080-fruit-4k-15352.jpg',\n",
       " 'pepper_chile_garden_bed_118782_3840x2160.jpg',\n",
       " 'pexels-binyamin-mellish-1396122.jpg',\n",
       " 'pexels-h-emre-2776479.jpg',\n",
       " 'pexels-hi-u-hoàng-668465.jpg',\n",
       " 'pexels-ian-turnell-709552.jpg',\n",
       " 'pexels-irina-iriser-1379636.jpg',\n",
       " 'pexels-jake-colvin-1741696.jpg',\n",
       " 'pexels-jovana-nesic-593655.jpg',\n",
       " 'pexels-leigh-patrick-298246.jpg',\n",
       " 'pexels-lisa-fotios-1438248.jpg',\n",
       " 'pexels-magda-ehlers-1279813.jpg',\n",
       " 'pexels-pixabay-255441.jpg',\n",
       " 'pexels-pixabay-259280.jpg',\n",
       " 'pexels-pixabay-259915.jpg',\n",
       " 'pexels-pixabay-33044.jpg',\n",
       " 'pexels-pixabay-355288.jpg',\n",
       " 'pexels-pixabay-355321.jpg',\n",
       " 'pexels-pixabay-36762.jpg',\n",
       " 'pexels-pixabay-40896.jpg',\n",
       " 'pexels-pixabay-414667.jpg',\n",
       " 'pexels-pixabay-45853.jpg',\n",
       " 'pexels-pixabay-45911.jpg',\n",
       " 'pexels-pixabay-459203.jpg',\n",
       " 'pexels-pixabay-460621.jpg',\n",
       " 'pexels-pixabay-462118.jpg',\n",
       " 'pexels-pixabay-60006.jpg',\n",
       " 'pexels-pixabay-68507.jpg',\n",
       " 'pexels-public-domain-pictures-68147.jpg',\n",
       " 'pexels-sharon-mccutcheon-1191639.jpg',\n",
       " 'pexels-sharon-mccutcheon-1191710.jpg',\n",
       " 'pexels-snapwire-618608.jpg',\n",
       " 'pexels-splitshire-1562.jpg',\n",
       " 'pexels-steve-johnson-1269968.jpg',\n",
       " 'pic.jpg',\n",
       " 'saucer_cup_sugar_cinnamon_slice_lemon_apples_beverage_reflection_73547_3840x2160.jpg',\n",
       " 'Saved Pictures',\n",
       " 'Screenshots',\n",
       " 'sergey-pesterev-P0nWpyphwks-unsplash.jpg',\n",
       " 'sheet_autumn_branch_131989_3840x2160.jpg',\n",
       " 'shrimp-1920x1080-mandarin-avocado-onions-greens-cooking-recipe-945.jpg',\n",
       " 'splash_water_drops_125882_3840x2160.jpg',\n",
       " 'strawberries_berries_ripe_123009_3840x2160.jpg',\n",
       " 'strawberry-1920x1080-4k-15337.jpg',\n",
       " 'strawberry-1920x1080-raspberries-blueberries-cherries-berries-5k-15349 (1).jpg',\n",
       " 'strawberry-1920x1080-raspberries-blueberries-cherries-berries-5k-15349.jpg',\n",
       " 'tangerines_fruit_bowl_citrus_108334_3840x2160.jpg',\n",
       " 'tangerines_fruit_branch_reflection_106496_3840x2160.jpg',\n",
       " 'the-creative-exchange-3XnE_C6pHRo-unsplash.jpg',\n",
       " 'tulip_grass_flower_133330_3840x2160.jpg',\n",
       " 'windows-10-1920x1080-4k-5k-wallpaper-microsoft-blue-6991.jpg',\n",
       " 'Windows-10-Wallpaper-34-1920x1080.jpg',\n",
       " 'Windows-10-Wallpaper-69-1366x768.jpg',\n",
       " 'Windows-10-Wallpapers-02-1920-x-1080.jpg',\n",
       " 'Windows-10-Wallpapers-03-1920-x-1080.jpg',\n",
       " 'Windows-10-Wallpapers-12-1920-x-1080.jpg',\n",
       " 'Windows-10-Wallpapers-27-1920-x-1080.jpg',\n",
       " 'Windows-10-Wallpapers-29-2560-x-1440.jpg',\n",
       " 'windows-10x-1920x1080-microsoft-4k-22711.jpg']"
      ]
     },
     "execution_count": 9,
     "metadata": {},
     "output_type": "execute_result"
    }
   ],
   "source": [
    "list_name  = os.listdir(r\"C:\\Users\\Mega Computers\\Pictures\")\n",
    "list_name"
   ]
  },
  {
   "cell_type": "code",
   "execution_count": null,
   "id": "6a3d1aa9-4374-4cf5-9787-57f3352b1155",
   "metadata": {},
   "outputs": [],
   "source": [
    "list_name  = os.listdir(r\"C:\\Users\\Mega Computers\\Pictures\")\n",
    "\n",
    "for name in list_name:\n",
    "    path =\"C:\\\\Users\\\\Mega Computers\\\\Pictures\" \n",
    "    img_name = path + \"\\\\\" + name\n",
    "    img = cv2.imread(img_name)\n",
    "    img = cv2.resize(img , (500,600))\n",
    "    cv2.imshow(\"slide Show \" ,img)\n",
    "    cv2.waitKey(0)\n",
    "cv2.destroyAllWindows()"
   ]
  },
  {
   "cell_type": "code",
   "execution_count": 9,
   "id": "ce9b8384-7a82-4f21-91d4-41cc7af410a9",
   "metadata": {},
   "outputs": [
    {
     "name": "stdout",
     "output_type": "stream",
     "text": [
      "Error reading image: C:\\Users\\Mega Computers\\Pictures\\Camera Roll. It may not be a supported format or the path could be incorrect.\n",
      "Error reading image: C:\\Users\\Mega Computers\\Pictures\\desktop.ini. It may not be a supported format or the path could be incorrect.\n",
      "Error reading image: C:\\Users\\Mega Computers\\Pictures\\pexels-hi-u-hoàng-668465.jpg. It may not be a supported format or the path could be incorrect.\n",
      "Error reading image: C:\\Users\\Mega Computers\\Pictures\\Saved Pictures. It may not be a supported format or the path could be incorrect.\n",
      "Error reading image: C:\\Users\\Mega Computers\\Pictures\\Screenshots. It may not be a supported format or the path could be incorrect.\n"
     ]
    }
   ],
   "source": [
    "import os\n",
    "import cv2\n",
    "\n",
    "# List all images in the specified directory\n",
    "list_name = os.listdir(r\"C:\\Users\\Mega Computers\\Pictures\")\n",
    "\n",
    "for name in list_name:\n",
    "    # Construct the full image path\n",
    "    path = r\"C:\\Users\\Mega Computers\\Pictures\"\n",
    "    img_name = os.path.join(path, name)\n",
    "    \n",
    "    # Read the image\n",
    "    img = cv2.imread(img_name)\n",
    "\n",
    "    # Check if the image was read correctly\n",
    "    if img is None:\n",
    "        print(f\"Error reading image: {img_name}. It may not be a supported format or the path could be incorrect.\")\n",
    "        continue\n",
    "\n",
    "    # Resize the image\n",
    "    img = cv2.resize(img, (500, 600))\n",
    "    \n",
    "    # Display the image in a window\n",
    "    cv2.imshow(\"Slide Show\", img)\n",
    "    \n",
    "    # Wait for 300 milliseconds\n",
    "    cv2.waitKey(0)\n",
    "\n",
    "# Close all OpenCV windows\n",
    "cv2.destroyAllWindows()\n"
   ]
  },
  {
   "cell_type": "code",
   "execution_count": null,
   "id": "89a9e3cd-26e5-4393-8cfb-dff888c381d8",
   "metadata": {},
   "outputs": [],
   "source": []
  }
 ],
 "metadata": {
  "kernelspec": {
   "display_name": "Python 3 (ipykernel)",
   "language": "python",
   "name": "python3"
  },
  "language_info": {
   "codemirror_mode": {
    "name": "ipython",
    "version": 3
   },
   "file_extension": ".py",
   "mimetype": "text/x-python",
   "name": "python",
   "nbconvert_exporter": "python",
   "pygments_lexer": "ipython3",
   "version": "3.8.19"
  }
 },
 "nbformat": 4,
 "nbformat_minor": 5
}
